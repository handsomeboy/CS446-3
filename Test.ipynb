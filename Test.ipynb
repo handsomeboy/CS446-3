{
 "cells": [
  {
   "cell_type": "code",
   "execution_count": 106,
   "metadata": {
    "collapsed": false
   },
   "outputs": [
    {
     "name": "stdout",
     "output_type": "stream",
     "text": [
      "[ 0.  1.  1.]\n"
     ]
    }
   ],
   "source": [
    "import numpy as np\n",
    "import tensorflow as tf\n",
    "print(np.maximum(0,np.sign(1-np.array([1.,-1.0,0.0]))))"
   ]
  },
  {
   "cell_type": "code",
   "execution_count": 94,
   "metadata": {
    "collapsed": false
   },
   "outputs": [
    {
     "name": "stdout",
     "output_type": "stream",
     "text": [
      "[[ 1.]\n",
      " [ 2.]\n",
      " [ 3.]\n",
      " [ 4.]] (4, 1)\n",
      "[[ 1.  2.]\n",
      " [ 3.  4.]\n",
      " [ 1.  2.]\n",
      " [ 3.  4.]] (4, 2)\n"
     ]
    }
   ],
   "source": [
    "f = np.array([1.0,2.0,3.0,4.0]).reshape(-1,1)\n",
    "y = np.array([[1.0,2.0,3.0,4.0], [1.0,2.0,3.0,4.0]]).reshape(-1,2)\n",
    "print(f, f.shape)\n",
    "print(y, y.shape)"
   ]
  },
  {
   "cell_type": "code",
   "execution_count": 100,
   "metadata": {
    "collapsed": false
   },
   "outputs": [
    {
     "data": {
      "text/plain": [
       "array([ 22.,  32.])"
      ]
     },
     "execution_count": 100,
     "metadata": {},
     "output_type": "execute_result"
    }
   ],
   "source": [
    "np.sum(np.multiply(f,y), axis=0)"
   ]
  },
  {
   "cell_type": "code",
   "execution_count": null,
   "metadata": {
    "collapsed": true
   },
   "outputs": [],
   "source": []
  },
  {
   "cell_type": "code",
   "execution_count": 2,
   "metadata": {
    "collapsed": false
   },
   "outputs": [
    {
     "name": "stdout",
     "output_type": "stream",
     "text": [
      "[[ 1.  0.  0.  0.]\n",
      " [ 0.  1.  0.  0.]\n",
      " [ 0.  0.  1.  0.]\n",
      " [ 0.  0.  0.  1.]]\n"
     ]
    }
   ],
   "source": [
    "dataset = {}\n",
    "dataset[1] = (1,'S', 44,23)\n",
    "dataset[2] = (2, 'M', 10, 20)\n",
    "print(np.eye(4))"
   ]
  },
  {
   "cell_type": "code",
   "execution_count": 4,
   "metadata": {
    "collapsed": false
   },
   "outputs": [
    {
     "name": "stdout",
     "output_type": "stream",
     "text": [
      "2 <class 'dict'> 4 <class 'str'>\n"
     ]
    }
   ],
   "source": [
    "print(len(dataset), type(dataset), len(dataset[1]), (type(dataset[1][1])))"
   ]
  },
  {
   "cell_type": "code",
   "execution_count": 5,
   "metadata": {
    "collapsed": false
   },
   "outputs": [
    {
     "ename": "SyntaxError",
     "evalue": "invalid syntax (<ipython-input-5-390b4ac8f9f1>, line 1)",
     "output_type": "error",
     "traceback": [
      "\u001b[1;36m  File \u001b[1;32m\"<ipython-input-5-390b4ac8f9f1>\"\u001b[1;36m, line \u001b[1;32m1\u001b[0m\n\u001b[1;33m    print([[dataset[i+1][j] if dataset[i+1] == for j in range(len(dataset[i+1]))] for i in range(len(dataset))])\u001b[0m\n\u001b[1;37m                                                 ^\u001b[0m\n\u001b[1;31mSyntaxError\u001b[0m\u001b[1;31m:\u001b[0m invalid syntax\n"
     ]
    }
   ],
   "source": [
    "print([[dataset[i+1][j] if dataset[i+1] == for j in range(len(dataset[i+1]))] for i in range(len(dataset))])"
   ]
  },
  {
   "cell_type": "code",
   "execution_count": null,
   "metadata": {
    "collapsed": false
   },
   "outputs": [],
   "source": [
    "x = list()\n",
    "print(x)"
   ]
  },
  {
   "cell_type": "code",
   "execution_count": null,
   "metadata": {
    "collapsed": false
   },
   "outputs": [],
   "source": [
    "feature_columns = ['A', 'B', 'C']\n",
    "check = ['D', 'B']\n",
    "print([ 1 if check[i] in feature_columns else 0 for i in range(len(check))] )"
   ]
  },
  {
   "cell_type": "code",
   "execution_count": null,
   "metadata": {
    "collapsed": false
   },
   "outputs": [],
   "source": [
    "x = np.array([[1, 2], [3, 4], [5,6]])\n",
    "L =[0,1]"
   ]
  },
  {
   "cell_type": "code",
   "execution_count": null,
   "metadata": {
    "collapsed": false
   },
   "outputs": [],
   "source": [
    "print(x[L,:])"
   ]
  },
  {
   "cell_type": "code",
   "execution_count": null,
   "metadata": {
    "collapsed": true
   },
   "outputs": [],
   "source": [
    "b = np.array([[i] for i in range(len(x))])"
   ]
  },
  {
   "cell_type": "code",
   "execution_count": null,
   "metadata": {
    "collapsed": false
   },
   "outputs": [],
   "source": [
    "print(b[L,:])"
   ]
  },
  {
   "cell_type": "code",
   "execution_count": 6,
   "metadata": {
    "collapsed": false
   },
   "outputs": [],
   "source": [
    "# X_new = np.concatenate([x,b], axis=1)\n",
    "from random import shuffle"
   ]
  },
  {
   "cell_type": "code",
   "execution_count": 7,
   "metadata": {
    "collapsed": false
   },
   "outputs": [
    {
     "ename": "NameError",
     "evalue": "name 'X_new' is not defined",
     "output_type": "error",
     "traceback": [
      "\u001b[1;31m---------------------------------------------------------------------------\u001b[0m",
      "\u001b[1;31mNameError\u001b[0m                                 Traceback (most recent call last)",
      "\u001b[1;32m<ipython-input-7-da921de99c0e>\u001b[0m in \u001b[0;36m<module>\u001b[1;34m()\u001b[0m\n\u001b[1;32m----> 1\u001b[1;33m \u001b[0mprint\u001b[0m\u001b[1;33m(\u001b[0m\u001b[0mshuffle\u001b[0m\u001b[1;33m(\u001b[0m\u001b[0mX_new\u001b[0m\u001b[1;33m)\u001b[0m\u001b[1;33m,\u001b[0m \u001b[0mX_new\u001b[0m\u001b[1;33m)\u001b[0m\u001b[1;33m\u001b[0m\u001b[0m\n\u001b[0m",
      "\u001b[1;31mNameError\u001b[0m: name 'X_new' is not defined"
     ]
    }
   ],
   "source": [
    "print(shuffle(X_new), X_new)\n"
   ]
  },
  {
   "cell_type": "code",
   "execution_count": 8,
   "metadata": {
    "collapsed": false
   },
   "outputs": [
    {
     "name": "stdout",
     "output_type": "stream",
     "text": [
      "[[ 0.63576374]\n",
      " [ 0.80989251]\n",
      " [ 0.89919508]]\n"
     ]
    }
   ],
   "source": [
    "print(np.random.random((3,1)))"
   ]
  },
  {
   "cell_type": "code",
   "execution_count": 9,
   "metadata": {
    "collapsed": true
   },
   "outputs": [],
   "source": [
    "w = np.ones((3,1))"
   ]
  },
  {
   "cell_type": "code",
   "execution_count": 10,
   "metadata": {
    "collapsed": false
   },
   "outputs": [
    {
     "ename": "NameError",
     "evalue": "name 'X_new' is not defined",
     "output_type": "error",
     "traceback": [
      "\u001b[1;31m---------------------------------------------------------------------------\u001b[0m",
      "\u001b[1;31mNameError\u001b[0m                                 Traceback (most recent call last)",
      "\u001b[1;32m<ipython-input-10-c61505e889a7>\u001b[0m in \u001b[0;36m<module>\u001b[1;34m()\u001b[0m\n\u001b[1;32m----> 1\u001b[1;33m \u001b[0mprint\u001b[0m\u001b[1;33m(\u001b[0m\u001b[0mnp\u001b[0m\u001b[1;33m.\u001b[0m\u001b[0mdot\u001b[0m\u001b[1;33m(\u001b[0m\u001b[0mX_new\u001b[0m\u001b[1;33m,\u001b[0m \u001b[0mw\u001b[0m\u001b[1;33m)\u001b[0m\u001b[1;33m)\u001b[0m\u001b[1;33m\u001b[0m\u001b[0m\n\u001b[0m",
      "\u001b[1;31mNameError\u001b[0m: name 'X_new' is not defined"
     ]
    }
   ],
   "source": [
    "print(np.dot(X_new, w))"
   ]
  },
  {
   "cell_type": "code",
   "execution_count": 11,
   "metadata": {
    "collapsed": false
   },
   "outputs": [
    {
     "ename": "NameError",
     "evalue": "name 'X_new' is not defined",
     "output_type": "error",
     "traceback": [
      "\u001b[1;31m---------------------------------------------------------------------------\u001b[0m",
      "\u001b[1;31mNameError\u001b[0m                                 Traceback (most recent call last)",
      "\u001b[1;32m<ipython-input-11-91c9105b5120>\u001b[0m in \u001b[0;36m<module>\u001b[1;34m()\u001b[0m\n\u001b[1;32m----> 1\u001b[1;33m \u001b[0mprint\u001b[0m\u001b[1;33m(\u001b[0m\u001b[0mX_new\u001b[0m\u001b[1;33m)\u001b[0m\u001b[1;33m\u001b[0m\u001b[0m\n\u001b[0m",
      "\u001b[1;31mNameError\u001b[0m: name 'X_new' is not defined"
     ]
    }
   ],
   "source": [
    "print(X_new)"
   ]
  },
  {
   "cell_type": "code",
   "execution_count": 12,
   "metadata": {
    "collapsed": true
   },
   "outputs": [],
   "source": [
    "A = [[1, 2 ],[3,4],[5,6]]\n",
    "b = [[1],[9],[25]]"
   ]
  },
  {
   "cell_type": "code",
   "execution_count": 13,
   "metadata": {
    "collapsed": false
   },
   "outputs": [
    {
     "ename": "TypeError",
     "evalue": "list indices must be integers or slices, not tuple",
     "output_type": "error",
     "traceback": [
      "\u001b[1;31m---------------------------------------------------------------------------\u001b[0m",
      "\u001b[1;31mTypeError\u001b[0m                                 Traceback (most recent call last)",
      "\u001b[1;32m<ipython-input-13-58b6d067355e>\u001b[0m in \u001b[0;36m<module>\u001b[1;34m()\u001b[0m\n\u001b[1;32m----> 1\u001b[1;33m \u001b[0mprint\u001b[0m\u001b[1;33m(\u001b[0m\u001b[0mA\u001b[0m\u001b[1;33m[\u001b[0m\u001b[1;33m(\u001b[0m\u001b[1;36m0\u001b[0m\u001b[1;33m,\u001b[0m\u001b[1;36m1\u001b[0m\u001b[1;33m)\u001b[0m\u001b[1;33m]\u001b[0m\u001b[1;33m)\u001b[0m\u001b[1;33m\u001b[0m\u001b[0m\n\u001b[0m",
      "\u001b[1;31mTypeError\u001b[0m: list indices must be integers or slices, not tuple"
     ]
    }
   ],
   "source": [
    "print(A[(0,1)])"
   ]
  },
  {
   "cell_type": "code",
   "execution_count": 14,
   "metadata": {
    "collapsed": false
   },
   "outputs": [
    {
     "ename": "NameError",
     "evalue": "name 'comb' is not defined",
     "output_type": "error",
     "traceback": [
      "\u001b[1;31m---------------------------------------------------------------------------\u001b[0m",
      "\u001b[1;31mNameError\u001b[0m                                 Traceback (most recent call last)",
      "\u001b[1;32m<ipython-input-14-0bc4a50d94d2>\u001b[0m in \u001b[0;36m<module>\u001b[1;34m()\u001b[0m\n\u001b[1;32m----> 1\u001b[1;33m \u001b[0mprint\u001b[0m\u001b[1;33m(\u001b[0m\u001b[0mcomb\u001b[0m\u001b[1;33m)\u001b[0m\u001b[1;33m\u001b[0m\u001b[0m\n\u001b[0m",
      "\u001b[1;31mNameError\u001b[0m: name 'comb' is not defined"
     ]
    }
   ],
   "source": [
    "print(comb)"
   ]
  },
  {
   "cell_type": "code",
   "execution_count": 15,
   "metadata": {
    "collapsed": false
   },
   "outputs": [
    {
     "ename": "NameError",
     "evalue": "name 'comb' is not defined",
     "output_type": "error",
     "traceback": [
      "\u001b[1;31m---------------------------------------------------------------------------\u001b[0m",
      "\u001b[1;31mNameError\u001b[0m                                 Traceback (most recent call last)",
      "\u001b[1;32m<ipython-input-15-2ed98227fdd3>\u001b[0m in \u001b[0;36m<module>\u001b[1;34m()\u001b[0m\n\u001b[1;32m----> 1\u001b[1;33m \u001b[0mprint\u001b[0m\u001b[1;33m(\u001b[0m\u001b[0mmap\u001b[0m\u001b[1;33m(\u001b[0m\u001b[0mshuffle\u001b[0m\u001b[1;33m,\u001b[0m\u001b[0mcomb\u001b[0m\u001b[1;33m)\u001b[0m\u001b[1;33m)\u001b[0m\u001b[1;33m\u001b[0m\u001b[0m\n\u001b[0m",
      "\u001b[1;31mNameError\u001b[0m: name 'comb' is not defined"
     ]
    }
   ],
   "source": [
    "print(map(shuffle,comb))"
   ]
  },
  {
   "cell_type": "code",
   "execution_count": 16,
   "metadata": {
    "collapsed": false
   },
   "outputs": [],
   "source": [
    "rand_list = list([np.random.randint(0, len(A)-1)])"
   ]
  },
  {
   "cell_type": "code",
   "execution_count": 17,
   "metadata": {
    "collapsed": false
   },
   "outputs": [
    {
     "name": "stdout",
     "output_type": "stream",
     "text": [
      "[0]\n"
     ]
    }
   ],
   "source": [
    "print(rand_list)\n",
    "import random"
   ]
  },
  {
   "cell_type": "code",
   "execution_count": 18,
   "metadata": {
    "collapsed": false
   },
   "outputs": [
    {
     "name": "stdout",
     "output_type": "stream",
     "text": [
      "[1, 2, 0]\n"
     ]
    }
   ],
   "source": [
    "print(random.sample(range(0, len(A)), len(A)))"
   ]
  },
  {
   "cell_type": "code",
   "execution_count": 19,
   "metadata": {
    "collapsed": false
   },
   "outputs": [
    {
     "name": "stdout",
     "output_type": "stream",
     "text": [
      "[[5, 6], [1, 2], [3, 4]]\n",
      "[[25], [1], [9]]\n"
     ]
    }
   ],
   "source": [
    "import numpy as np\n",
    "import random\n",
    "rand_list =random.sample(range(0, len(A)), len(A))\n",
    "print([A[i] for i in rand_list])\n",
    "print([b[i] for i in rand_list])"
   ]
  },
  {
   "cell_type": "code",
   "execution_count": 20,
   "metadata": {
    "collapsed": false
   },
   "outputs": [
    {
     "name": "stdout",
     "output_type": "stream",
     "text": [
      "[[1, 2], [3, 4], [5, 6]]\n",
      "[[1], [9], [25]]\n"
     ]
    }
   ],
   "source": [
    "print(A)\n",
    "print(b)"
   ]
  },
  {
   "cell_type": "code",
   "execution_count": 21,
   "metadata": {
    "collapsed": false
   },
   "outputs": [
    {
     "name": "stdout",
     "output_type": "stream",
     "text": [
      "[[  1   2]\n",
      " [ 27  36]\n",
      " [125 150]]\n",
      "[[153 188]]\n"
     ]
    }
   ],
   "source": [
    "import numpy as np\n",
    "print(np.array(A)*np.array(b))\n",
    "print(np.dot(np.transpose(np.array(b)), np.array(A) ))"
   ]
  },
  {
   "cell_type": "code",
   "execution_count": 22,
   "metadata": {
    "collapsed": true
   },
   "outputs": [],
   "source": [
    "import numpy as np"
   ]
  },
  {
   "cell_type": "code",
   "execution_count": 11,
   "metadata": {
    "collapsed": true
   },
   "outputs": [],
   "source": [
    "A = np.array([[1, 2], [3, 4], [5, 6]])"
   ]
  },
  {
   "cell_type": "code",
   "execution_count": 12,
   "metadata": {
    "collapsed": false
   },
   "outputs": [
    {
     "name": "stdout",
     "output_type": "stream",
     "text": [
      "[[1 2]\n",
      " [3 4]\n",
      " [5 6]]\n"
     ]
    }
   ],
   "source": [
    "print(A)"
   ]
  },
  {
   "cell_type": "code",
   "execution_count": 59,
   "metadata": {
    "collapsed": false
   },
   "outputs": [
    {
     "name": "stdout",
     "output_type": "stream",
     "text": [
      "91\n"
     ]
    }
   ],
   "source": [
    "print(sum(sum(np.power(A, 2))))"
   ]
  },
  {
   "cell_type": "code",
   "execution_count": 60,
   "metadata": {
    "collapsed": false
   },
   "outputs": [
    {
     "data": {
      "text/plain": [
       "91"
      ]
     },
     "execution_count": 60,
     "metadata": {},
     "output_type": "execute_result"
    }
   ],
   "source": [
    "np.sum(np.power(A,2))"
   ]
  },
  {
   "cell_type": "code",
   "execution_count": 27,
   "metadata": {
    "collapsed": true
   },
   "outputs": [],
   "source": [
    "\n",
    "def one_hot_bldg_type(bldg_type):\n",
    "    \"\"\"Builds the one-hot encoding vector.\n",
    "\n",
    "    Args:\n",
    "        bldg_type(str): String indicating the building type.\n",
    "\n",
    "    Returns:\n",
    "        ret(list): A list representing the one-hot encoding vector.\n",
    "            (e.g. for 1Fam building type, the returned list should be\n",
    "            [1,0,0,0,0].\n",
    "    \"\"\"\n",
    "    type_to_id = {'1Fam': 0,\n",
    "                  '2FmCon': 1,\n",
    "                  'Duplx': 2,\n",
    "                  'TwnhsE': 3,\n",
    "                  'TwnhsI': 4,\n",
    "                  }\n",
    "    ret = [0, 0, 0, 0, 0]\n",
    "    ret[type_to_id[bldg_type]]=1\n",
    "            \n",
    "    #pass\n",
    "    return ret\n"
   ]
  },
  {
   "cell_type": "code",
   "execution_count": 63,
   "metadata": {
    "collapsed": false
   },
   "outputs": [],
   "source": [
    "b = np.array([[1], [9],[25]])"
   ]
  },
  {
   "cell_type": "code",
   "execution_count": 66,
   "metadata": {
    "collapsed": false
   },
   "outputs": [
    {
     "name": "stdout",
     "output_type": "stream",
     "text": [
      "[array([[ 1],\n",
      "       [ 9],\n",
      "       [25]]), array([[1, 2],\n",
      "       [3, 4],\n",
      "       [5, 6]])]\n"
     ]
    }
   ],
   "source": [
    "print([b, A])"
   ]
  },
  {
   "cell_type": "code",
   "execution_count": 69,
   "metadata": {
    "collapsed": false
   },
   "outputs": [
    {
     "name": "stdout",
     "output_type": "stream",
     "text": [
      "[0 2 1]\n",
      "[[1 2]\n",
      " [5 6]\n",
      " [3 4]]\n",
      "[[ 1]\n",
      " [25]\n",
      " [ 9]]\n"
     ]
    }
   ],
   "source": [
    "permutation = np.random.permutation(A.shape[0])\n",
    "print(permutation )\n",
    "print(A[permutation])\n",
    "print(b[permutation])"
   ]
  },
  {
   "cell_type": "code",
   "execution_count": 42,
   "metadata": {
    "collapsed": false
   },
   "outputs": [
    {
     "ename": "TypeError",
     "evalue": "permutation() takes no keyword arguments",
     "output_type": "error",
     "traceback": [
      "\u001b[1;31m---------------------------------------------------------------------------\u001b[0m",
      "\u001b[1;31mTypeError\u001b[0m                                 Traceback (most recent call last)",
      "\u001b[1;32m<ipython-input-42-a753151cd0de>\u001b[0m in \u001b[0;36m<module>\u001b[1;34m()\u001b[0m\n\u001b[1;32m----> 1\u001b[1;33m \u001b[1;33m[\u001b[0m\u001b[0mA\u001b[0m\u001b[1;33m,\u001b[0m \u001b[0mb\u001b[0m\u001b[1;33m]\u001b[0m \u001b[1;33m=\u001b[0m\u001b[0mnp\u001b[0m\u001b[1;33m.\u001b[0m\u001b[0mrandom\u001b[0m\u001b[1;33m.\u001b[0m\u001b[0mpermutation\u001b[0m\u001b[1;33m(\u001b[0m\u001b[0mnp\u001b[0m\u001b[1;33m.\u001b[0m\u001b[0marray\u001b[0m\u001b[1;33m(\u001b[0m\u001b[1;33m[\u001b[0m\u001b[0mA\u001b[0m\u001b[1;33m,\u001b[0m \u001b[0mb\u001b[0m\u001b[1;33m]\u001b[0m\u001b[1;33m)\u001b[0m\u001b[1;33m,\u001b[0m \u001b[0maxis\u001b[0m\u001b[1;33m=\u001b[0m\u001b[1;36m0\u001b[0m\u001b[1;33m)\u001b[0m\u001b[1;33m\u001b[0m\u001b[0m\n\u001b[0m",
      "\u001b[1;31mTypeError\u001b[0m: permutation() takes no keyword arguments"
     ]
    }
   ],
   "source": [
    "[A, b] =np.random.permutation(np.array([A, b]), axis=0)"
   ]
  },
  {
   "cell_type": "raw",
   "metadata": {},
   "source": [
    "print(A)"
   ]
  },
  {
   "cell_type": "code",
   "execution_count": 13,
   "metadata": {
    "collapsed": false
   },
   "outputs": [],
   "source": [
    "import numpy \n",
    "lis = np.random.permutation(3)"
   ]
  },
  {
   "cell_type": "code",
   "execution_count": 14,
   "metadata": {
    "collapsed": false
   },
   "outputs": [
    {
     "data": {
      "text/plain": [
       "array([[1, 2],\n",
       "       [5, 6],\n",
       "       [3, 4]])"
      ]
     },
     "execution_count": 14,
     "metadata": {},
     "output_type": "execute_result"
    }
   ],
   "source": [
    "A[lis] "
   ]
  },
  {
   "cell_type": "code",
   "execution_count": 4,
   "metadata": {
    "collapsed": false
   },
   "outputs": [
    {
     "name": "stdout",
     "output_type": "stream",
     "text": [
      "[2] [4]\n"
     ]
    }
   ],
   "source": [
    "dic = {'Ali': [[1],[2],[3]], 'Reza':[[1],[4],[9]]}\n",
    "print(dic['Ali'][1],dic[\"Reza\"][1])"
   ]
  },
  {
   "cell_type": "code",
   "execution_count": 7,
   "metadata": {
    "collapsed": true
   },
   "outputs": [],
   "source": [
    "\n",
    "dic['Ali'].append([4])\n",
    "dic[\"Reza\"].append([16])"
   ]
  },
  {
   "cell_type": "code",
   "execution_count": 9,
   "metadata": {
    "collapsed": false
   },
   "outputs": [
    {
     "name": "stdout",
     "output_type": "stream",
     "text": [
      "[4] [16]\n"
     ]
    }
   ],
   "source": [
    "print(dic['Ali'][3],dic[\"Reza\"][3])"
   ]
  },
  {
   "cell_type": "code",
   "execution_count": 10,
   "metadata": {
    "collapsed": false
   },
   "outputs": [
    {
     "data": {
      "text/plain": [
       "{'Ali': [[1], [2], [3], [4]], 'Reza': [[1], [4], [9], [16]]}"
      ]
     },
     "execution_count": 10,
     "metadata": {},
     "output_type": "execute_result"
    }
   ],
   "source": [
    "dic"
   ]
  },
  {
   "cell_type": "code",
   "execution_count": 12,
   "metadata": {
    "collapsed": true
   },
   "outputs": [],
   "source": [
    "A = np.array([[1,5,3],[2,4,0]])"
   ]
  },
  {
   "cell_type": "code",
   "execution_count": 13,
   "metadata": {
    "collapsed": false
   },
   "outputs": [
    {
     "data": {
      "text/plain": [
       "array([[1, 5, 3],\n",
       "       [2, 4, 0]])"
      ]
     },
     "execution_count": 13,
     "metadata": {},
     "output_type": "execute_result"
    }
   ],
   "source": [
    "A"
   ]
  },
  {
   "cell_type": "code",
   "execution_count": 14,
   "metadata": {
    "collapsed": true
   },
   "outputs": [],
   "source": [
    "mean = np.mean(A, axis=0)"
   ]
  },
  {
   "cell_type": "code",
   "execution_count": 15,
   "metadata": {
    "collapsed": false
   },
   "outputs": [
    {
     "data": {
      "text/plain": [
       "array([ 1.5,  4.5,  1.5])"
      ]
     },
     "execution_count": 15,
     "metadata": {},
     "output_type": "execute_result"
    }
   ],
   "source": [
    "mean"
   ]
  },
  {
   "cell_type": "code",
   "execution_count": 16,
   "metadata": {
    "collapsed": false
   },
   "outputs": [
    {
     "data": {
      "text/plain": [
       "array([[-0.5,  0.5,  1.5],\n",
       "       [ 0.5, -0.5, -1.5]])"
      ]
     },
     "execution_count": 16,
     "metadata": {},
     "output_type": "execute_result"
    }
   ],
   "source": [
    "A - mean"
   ]
  },
  {
   "cell_type": "code",
   "execution_count": 46,
   "metadata": {
    "collapsed": true
   },
   "outputs": [],
   "source": [
    "y = np.array([1.,-1.,1.,-1.,-1.])\n",
    "f = np.array([2.,-3.,0.,1.,-1.])"
   ]
  },
  {
   "cell_type": "code",
   "execution_count": 59,
   "metadata": {
    "collapsed": false
   },
   "outputs": [
    {
     "name": "stdout",
     "output_type": "stream",
     "text": [
      "[-1. -2.  1.  2.  0.] (5,) 5\n",
      "[ 0.  0.  1.  2.  0.]\n"
     ]
    }
   ],
   "source": [
    "L = 1- np.multiply(y, f)\n",
    "print(L,L.shape, len(L))\n",
    "np.maximum(0,1)\n",
    "hinge = np.maximum(0,L)\n",
    "print(hinge)\n",
    "# hinge = np.array([np.max(0.,L[i]) for i in range(len(L))])"
   ]
  },
  {
   "cell_type": "code",
   "execution_count": 68,
   "metadata": {
    "collapsed": true
   },
   "outputs": [],
   "source": [
    "f = np.array([ 1.,-1.,1.,-1.,-1.])\n",
    "x = np.array([[0., 0.,0., 0.,0.],[1.0,0.,0.,0.,-1.],[0.,0.,0.,-1.,0.],[1.0,-1.,0.0,2.,-2.]])"
   ]
  },
  {
   "cell_type": "code",
   "execution_count": 69,
   "metadata": {
    "collapsed": false
   },
   "outputs": [
    {
     "data": {
      "text/plain": [
       "array([[ 0.,  0.,  0.,  0.,  0.],\n",
       "       [ 1.,  0.,  0.,  0., -1.],\n",
       "       [ 0.,  0.,  0., -1.,  0.],\n",
       "       [ 1., -1.,  0.,  2., -2.]])"
      ]
     },
     "execution_count": 69,
     "metadata": {},
     "output_type": "execute_result"
    }
   ],
   "source": [
    "x"
   ]
  },
  {
   "cell_type": "code",
   "execution_count": 72,
   "metadata": {
    "collapsed": false
   },
   "outputs": [
    {
     "data": {
      "text/plain": [
       "array([[ 0., -0.,  0., -0., -0.],\n",
       "       [ 1., -0.,  0., -0.,  1.],\n",
       "       [ 0., -0.,  0.,  1., -0.],\n",
       "       [ 1.,  1.,  0., -2.,  2.]])"
      ]
     },
     "execution_count": 72,
     "metadata": {},
     "output_type": "execute_result"
    }
   ],
   "source": [
    "L = np.multiply(f,x)\n",
    "L"
   ]
  },
  {
   "cell_type": "code",
   "execution_count": 76,
   "metadata": {
    "collapsed": false
   },
   "outputs": [
    {
     "data": {
      "text/plain": [
       "array([[ 0.,  0.,  0.,  0.,  0.],\n",
       "       [ 1.,  0.,  0.,  0.,  1.],\n",
       "       [ 0.,  0.,  0.,  1.,  0.],\n",
       "       [ 1.,  1.,  0.,  0.,  2.]])"
      ]
     },
     "execution_count": 76,
     "metadata": {},
     "output_type": "execute_result"
    }
   ],
   "source": [
    "\n",
    "F = np.maximum(0,L)\n",
    "F"
   ]
  },
  {
   "cell_type": "code",
   "execution_count": 80,
   "metadata": {
    "collapsed": false
   },
   "outputs": [
    {
     "data": {
      "text/plain": [
       "array([ 2.,  1.,  0.,  1.,  3.])"
      ]
     },
     "execution_count": 80,
     "metadata": {},
     "output_type": "execute_result"
    }
   ],
   "source": [
    "np.sum(F, axis=0)"
   ]
  },
  {
   "cell_type": "code",
   "execution_count": 81,
   "metadata": {
    "collapsed": false
   },
   "outputs": [
    {
     "data": {
      "text/plain": [
       "array([ 0.,  2.,  1.,  4.])"
      ]
     },
     "execution_count": 81,
     "metadata": {},
     "output_type": "execute_result"
    }
   ],
   "source": [
    "np.sum(F, axis=1)"
   ]
  },
  {
   "cell_type": "code",
   "execution_count": null,
   "metadata": {
    "collapsed": true
   },
   "outputs": [],
   "source": [
    "\"\"\"\n",
    "Train model and eval model helpers.\n",
    "\"\"\"\n",
    "from __future__ import print_function\n",
    "\n",
    "import numpy as np\n",
    "import cvxopt\n",
    "import cvxopt.solvers\n",
    "\n",
    "\n",
    "def train_model(data, model, learning_rate=0.001, batch_size=16,\n",
    "                num_steps=1000, shuffle=True):\n",
    "    \"\"\"Implements the training loop of stochastic gradient descent.\n",
    "\n",
    "    Performs stochastic gradient descent with the indicated batch_size.\n",
    "\n",
    "    If shuffle is true:\n",
    "        Shuffle data at every epoch, including the 0th epoch.\n",
    "\n",
    "    If the number of example is not divisible by batch_size, the last batch\n",
    "    will simply be the remaining examples.\n",
    "\n",
    "    Args:\n",
    "        data(dict): Data loaded from io_tools\n",
    "        model(LinearModel): Initialized linear model.\n",
    "        learning_rate(float): Learning rate of your choice\n",
    "        batch_size(int): Batch size of your choise.\n",
    "        num_steps(int): Number of steps to run the updated.\n",
    "        shuffle(bool): Whether to shuffle data at every epoch.\n",
    "\n",
    "    Returns:\n",
    "        model(LinearModel): Returns a trained model.\n",
    "    \"\"\"\n",
    "\n",
    "    # Performs gradient descent. (This function will not be graded.)\n",
    "   \n",
    "    x = data['image']\n",
    "    y = data['label'].reshape(-1,1)\n",
    "    batch_num = int(np.ceil(len(x)/batch_size))\n",
    "    for epoch in range(num_steps):\n",
    "        if shuffle:\n",
    "            import random\n",
    "            permutation = np.random.permutation(x.shape[0])\n",
    "            x = np.array(x[permutation])\n",
    "            y = np.array(y[permutation])\n",
    "        for batch in range(batch_num):\n",
    "            print(\"shape of y  :\", y.shape)\n",
    "            batch_start = batch * batch_size\n",
    "            batch_end = (batch + 1 ) * batch_size \n",
    "            if batch+1 == batch_num:\n",
    "                batch_end = len(x)\n",
    "            x_batch = np.array([x[i] for i in range(batch_start, batch_end)])\n",
    "            y_batch = y[batch_start:batch_end]\n",
    "            print(y_batch.shape)\n",
    "\n",
    "            update_step(x_batch, y_batch, model, learning_rate)\n",
    "            \n",
    "            \n",
    "        \n",
    "    return model\n",
    "\n",
    "\n",
    "\n",
    "def update_step(x_batch, y_batch, model, learning_rate):\n",
    "    \"\"\"Performs on single update step, (i.e. forward then backward).\n",
    "\n",
    "    Args:\n",
    "        x_batch(numpy.ndarray): input data of dimension (N, ndims).\n",
    "        y_batch(numpy.ndarray): label data of dimension (N, 1).\n",
    "        model(LinearModel): Initialized linear model.\n",
    "    \"\"\"\n",
    "    f = model.forward(x_batch)\n",
    "    total_grad = model.backward(f, y_batch)\n",
    "    model.w = model.w - learning_rate * total_grad\n",
    "\n",
    "def train_model_qp(data, model):\n",
    "    \"\"\"Computes and sets the optimal model wegiths (model.w) using a QP solver.\n",
    "\n",
    "    Args:\n",
    "        data(dict): Data from utils.data_tools.preprocess_data.\n",
    "        model(SupportVectorMachine): Support vector machine model.\n",
    "    \"\"\"\n",
    "    P, q, G, h = qp_helper(data, model)\n",
    "    P = cvxopt.matrix(P, P.shape, 'd')\n",
    "    q = cvxopt.matrix(q, q.shape, 'd')\n",
    "    G = cvxopt.matrix(G, G.shape, 'd')\n",
    "    h = cvxopt.matrix(h, h.shape, 'd')\n",
    "    sol = cvxopt.solvers.qp(P, q, G, h)\n",
    "    z = np.array(sol['x'])\n",
    "    # Implementation here (do not modify the code above)\n",
    "    pass\n",
    "    # Set model.w\n",
    "    model.w = None\n",
    "\n",
    "\n",
    "def qp_helper(data, model):\n",
    "    \"\"\"Prepares arguments for the qpsolver.\n",
    "\n",
    "    Args:\n",
    "        data(dict): Data from utils.data_tools.preprocess_data.\n",
    "        model(SupportVectorMachine): Support vector machine model.\n",
    "\n",
    "    Returns:\n",
    "        P(numpy.ndarray): P matrix in the qp program.\n",
    "        q(numpy.ndarray): q matrix in the qp program.\n",
    "        G(numpy.ndarray): G matrix in the qp program.\n",
    "        h(numpy.ndarray): h matrix in the qp program.\n",
    "    \"\"\"\n",
    "    P = None\n",
    "    q = None\n",
    "    G = None\n",
    "    h = None\n",
    "    # Implementation here.\n",
    "    return P, q, G, h\n",
    "\n",
    "\n",
    "def eval_model(data, model):\n",
    "    \"\"\"Performs evaluation on a dataset.\n",
    "\n",
    "    Args:\n",
    "        data(dict): Data loaded from io_tools.\n",
    "        model(LinearModel): Initialized linear model.\n",
    "\n",
    "    Returns:\n",
    "        loss(float): model loss on data.\n",
    "        acc(float): model accuracy on data.\n",
    "    \"\"\"\n",
    "    # Implementation here.\n",
    "    f = model.forward(data['image'])\n",
    "    pred = model.predict(f).astype(int)\n",
    "    y = data['label'].astype(int)\n",
    "    loss = model.total_loss(f, processed_dataset[1]) + model.w_decay_factor * np.sum(np.power(model.w,2))\n",
    "    acc = np.sum([1 if y[i] == pred[i] else 0  for i in range(len(y))]) /len(y)\n",
    "    return loss, acc\n"
   ]
  }
 ],
 "metadata": {
  "anaconda-cloud": {},
  "kernelspec": {
   "display_name": "Python [tensorflow]",
   "language": "python",
   "name": "Python [tensorflow]"
  },
  "language_info": {
   "codemirror_mode": {
    "name": "ipython",
    "version": 3
   },
   "file_extension": ".py",
   "mimetype": "text/x-python",
   "name": "python",
   "nbconvert_exporter": "python",
   "pygments_lexer": "ipython3",
   "version": "3.5.3"
  }
 },
 "nbformat": 4,
 "nbformat_minor": 0
}
