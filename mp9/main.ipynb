{
 "cells": [
  {
   "cell_type": "code",
   "execution_count": 1,
   "metadata": {
    "collapsed": false
   },
   "outputs": [
    {
     "name": "stdout",
     "output_type": "stream",
     "text": [
      "Accuracy: 0.0\n"
     ]
    },
    {
     "name": "stderr",
     "output_type": "stream",
     "text": [
      "C:\\Users\\PIxel\\Anaconda2\\envs\\tensorflow\\lib\\site-packages\\ipykernel\\__main__.py:44: DeprecationWarning: elementwise == comparison failed; this will raise an error in the future.\n"
     ]
    },
    {
     "ename": "SystemExit",
     "evalue": "",
     "output_type": "error",
     "traceback": [
      "An exception has occurred, use %tb to see the full traceback.\n",
      "\u001b[1;31mSystemExit\u001b[0m\n"
     ]
    },
    {
     "name": "stderr",
     "output_type": "stream",
     "text": [
      "C:\\Users\\PIxel\\Anaconda2\\envs\\tensorflow\\lib\\site-packages\\IPython\\core\\interactiveshell.py:2870: UserWarning: To exit: use 'exit', 'quit', or Ctrl-D.\n",
      "  warn(\"To exit: use 'exit', 'quit', or Ctrl-D.\", stacklevel=1)\n"
     ]
    }
   ],
   "source": [
    "\"\"\"Semi-supervised learning for EM for GMM.\"\"\"\n",
    "\n",
    "from __future__ import absolute_import\n",
    "from __future__ import division\n",
    "from __future__ import print_function\n",
    "\n",
    "import numpy as np\n",
    "import tensorflow as tf\n",
    "\n",
    "from utils import io_tools\n",
    "from models.gaussian_mixture_model import GaussianMixtureModel\n",
    "\n",
    "flags = tf.app.flags\n",
    "FLAGS = flags.FLAGS\n",
    "flags.DEFINE_integer('max_iter', 100, 'Number of EM steps to run.')\n",
    "flags.DEFINE_integer('n_components', 10, 'Number of components')\n",
    "\n",
    "def main(_):\n",
    "    \"\"\"High level pipeline.\n",
    "\n",
    "    This scripts performs the training and evaling and testing stages for\n",
    "    semi-supervised learning using kMeans algorithm.\n",
    "    \"\"\"\n",
    "    # Load dataset.\n",
    "    _, unlabeled_data = io_tools.read_dataset('data/simple_test.csv')\n",
    "    n_dims = unlabeled_data.shape[1]\n",
    "\n",
    "\n",
    "    # Initialize model.\n",
    "    model = GaussianMixtureModel(n_dims, n_components=FLAGS.n_components,\n",
    "                                     max_iter=FLAGS.max_iter)\n",
    "\n",
    "    # Unsupervised training.\n",
    "    model.fit(unlabeled_data)\n",
    "\n",
    "    # Supervised training.\n",
    "    train_label, train_data = io_tools.read_dataset('data/simple_test.csv')\n",
    "    model.supervised_fit(train_data, train_label)\n",
    "\n",
    "    # Eval model.\n",
    "    eval_label, eval_data = io_tools.read_dataset('data/simple_test.csv')\n",
    "    y_hat_eval = model.supervised_predict(eval_data)\n",
    "\n",
    "    acc = np.sum(y_hat_eval == eval_label) / (1.*eval_data.shape[0])\n",
    "    print(\"Accuracy: %s\" % acc)\n",
    "\n",
    "if __name__ == '__main__':\n",
    "    tf.app.run()\n"
   ]
  },
  {
   "cell_type": "code",
   "execution_count": 5,
   "metadata": {
    "collapsed": true
   },
   "outputs": [],
   "source": [
    "_, unlabeled_data = io_tools.read_dataset('data/simple_test.csv')\n",
    "n_dims = unlabeled_data.shape[1]\n",
    "\n"
   ]
  },
  {
   "cell_type": "code",
   "execution_count": 6,
   "metadata": {
    "collapsed": false
   },
   "outputs": [
    {
     "data": {
      "text/plain": [
       "2"
      ]
     },
     "execution_count": 6,
     "metadata": {},
     "output_type": "execute_result"
    }
   ],
   "source": [
    "n_dims"
   ]
  },
  {
   "cell_type": "code",
   "execution_count": 7,
   "metadata": {
    "collapsed": false
   },
   "outputs": [],
   "source": [
    "#unlabeled_data"
   ]
  },
  {
   "cell_type": "code",
   "execution_count": null,
   "metadata": {
    "collapsed": true
   },
   "outputs": [],
   "source": []
  }
 ],
 "metadata": {
  "anaconda-cloud": {},
  "kernelspec": {
   "display_name": "Python [tensorflow]",
   "language": "python",
   "name": "Python [tensorflow]"
  },
  "language_info": {
   "codemirror_mode": {
    "name": "ipython",
    "version": 3
   },
   "file_extension": ".py",
   "mimetype": "text/x-python",
   "name": "python",
   "nbconvert_exporter": "python",
   "pygments_lexer": "ipython3",
   "version": "3.5.3"
  }
 },
 "nbformat": 4,
 "nbformat_minor": 0
}
