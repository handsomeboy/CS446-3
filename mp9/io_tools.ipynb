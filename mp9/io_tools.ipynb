{
 "cells": [
  {
   "cell_type": "code",
   "execution_count": 46,
   "metadata": {
    "collapsed": true
   },
   "outputs": [],
   "source": [
    "\"\"\"Input and output helpers to load in data.\n",
    "\"\"\"\n",
    "\n",
    "import pickle\n",
    "import numpy as np\n",
    "from numpy import genfromtxt\n",
    "import pandas as pd\n",
    "\n",
    "def read_dataset(input_file_path):\n",
    "    \"\"\"Read input file in csv format from file.\n",
    "    In this csv, each row is an example, stored in the following format.\n",
    "    label, pixel1, pixel2, pixel3...\n",
    "\n",
    "    Args:\n",
    "        input_file_path(str): Path to the csv file.\n",
    "    Returns:\n",
    "        (1) label (np.ndarray): Array of dimension (N,) containing the label.\n",
    "        (2) feature (np.ndarray): Array of dimension (N, ndims) containing the\n",
    "        images.\n",
    "    \"\"\"\n",
    "    # Imeplemntation here.\n",
    "    data = pd.read_csv(input_file_path, sep=',', header=None)\n",
    "    \n",
    "    features = np.array(data.iloc[:,1:])\n",
    "    labels = np.array(data.iloc[:,0])\n",
    "    return labels, features"
   ]
  },
  {
   "cell_type": "code",
   "execution_count": 47,
   "metadata": {
    "collapsed": false
   },
   "outputs": [
    {
     "data": {
      "text/plain": [
       "'C:\\\\Users\\\\PIxel\\\\CS446\\\\mp9'"
      ]
     },
     "execution_count": 47,
     "metadata": {},
     "output_type": "execute_result"
    }
   ],
   "source": [
    "import os\n",
    "os.getcwd()"
   ]
  },
  {
   "cell_type": "code",
   "execution_count": 48,
   "metadata": {
    "collapsed": false
   },
   "outputs": [],
   "source": [
    "labels, features =read_dataset('data/mnist_test.csv')"
   ]
  },
  {
   "cell_type": "code",
   "execution_count": 49,
   "metadata": {
    "collapsed": false
   },
   "outputs": [
    {
     "name": "stdout",
     "output_type": "stream",
     "text": [
      "(3127,) (3127, 49)\n"
     ]
    }
   ],
   "source": [
    "print(labels.shape, features.shape)"
   ]
  },
  {
   "cell_type": "code",
   "execution_count": 51,
   "metadata": {
    "collapsed": false
   },
   "outputs": [
    {
     "name": "stdout",
     "output_type": "stream",
     "text": [
      "[   0.    0.    0.    2.   12.    0.    0.    0.    0.    0.   21.   68.\n",
      "    1.    0.    0.    0.    0.   59.   58.    0.    0.    0.    0.    4.\n",
      "   96.   28.    0.    0.    0.    0.   21.  108.    6.    0.    0.    0.\n",
      "    0.   43.   79.    1.    0.    0.    0.    0.    8.    8.    0.    0.\n",
      "    0.] 1.0\n"
     ]
    }
   ],
   "source": [
    "print(features[0], labels[0])"
   ]
  },
  {
   "cell_type": "code",
   "execution_count": null,
   "metadata": {
    "collapsed": true
   },
   "outputs": [],
   "source": []
  }
 ],
 "metadata": {
  "anaconda-cloud": {},
  "kernelspec": {
   "display_name": "Python [tensorflow]",
   "language": "python",
   "name": "Python [tensorflow]"
  },
  "language_info": {
   "codemirror_mode": {
    "name": "ipython",
    "version": 3
   },
   "file_extension": ".py",
   "mimetype": "text/x-python",
   "name": "python",
   "nbconvert_exporter": "python",
   "pygments_lexer": "ipython3",
   "version": "3.5.3"
  }
 },
 "nbformat": 4,
 "nbformat_minor": 0
}
