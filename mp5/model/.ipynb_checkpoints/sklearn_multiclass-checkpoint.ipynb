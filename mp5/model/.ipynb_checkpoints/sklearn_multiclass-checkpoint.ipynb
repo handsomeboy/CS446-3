{
 "cells": [
  {
   "cell_type": "code",
   "execution_count": 6,
   "metadata": {
    "collapsed": false
   },
   "outputs": [],
   "source": [
    "from sklearn import multiclass, svm\n",
    "from sklearn.multiclass import OneVsRestClassifier, OneVsOneClassifier\n",
    "from sklearn.svm import LinearSVC, SVC\n",
    "import numpy as np\n",
    "\n",
    "def sklearn_multiclass_prediction(mode, X_train, y_train, X_test):\n",
    "    '''\n",
    "    Use Scikit Learn built-in functions multiclass.OneVsRestClassifier\n",
    "    and multiclass.OneVsOneClassifier to perform multiclass classification.\n",
    "\n",
    "    Arguments:\n",
    "        mode: one of 'ovr', 'ovo' or 'crammer'.\n",
    "        X_train, X_test: numpy ndarray of training and test features.\n",
    "        y_train: labels of training data, from 0 to 9.\n",
    "\n",
    "    Returns:\n",
    "        y_pred_train, y_pred_test: a tuple of 2 numpy ndarrays,\n",
    "                                   being your prediction of labels on\n",
    "                                   training and test data, from 0 to 9.\n",
    "    '''\n",
    "#     C = 1.0  # SVM regularization parameter\n",
    "#     models = (svm.SVC(kernel='linear', C=C),\n",
    "#           svm.LinearSVC(C=C),\n",
    "#           svm.SVC(kernel='linear', multi_class='crammer_singer', C=C),\n",
    "    \n",
    "#     models = (clf.fit(X, y) for clf in models)\n",
    "              \n",
    "    if mode == 'ovr':\n",
    "        clf = LinearSVC(random_state=12345,  multi_class=mode)\n",
    "        clf.fit(X_train, y_train)\n",
    "        \n",
    "        y_pred_train = np.array(clf.predict(X_train))\n",
    "        y_pred_test = np.array(clf.predict(X_test))\n",
    "        \n",
    "    elif mode == 'ovo':\n",
    "        clf = OneVsOneClassifier(SVC(random_state=12345, kernel='linear'))\n",
    "        clf.fit(X_train, y_train)\n",
    "        \n",
    "        y_pred_train = np.array(clf.predict(X_train))\n",
    "        y_pred_test = np.array(clf.predict(X_test))\n",
    "        \n",
    "    elif mode == 'crammer':\n",
    "        clf = LinearSVC(random_state=12345,multi_class='crammer_singer')\n",
    "        clf.fit(X_train, y_train)\n",
    "        \n",
    "        y_pred_train = np.array(clf.predict(X_train))\n",
    "        y_pred_test = np.array(clf.predict(X_test))\n",
    "    else:\n",
    "        print(\"******* ATTENTION ********\")\n",
    "        print(\"Selected mode is not supported\")\n",
    "        print(\"Select from ovo, ovr, and crammer\")\n",
    "        \n",
    "    return (y_pred_train, y_pred_test)\n"
   ]
  },
  {
   "cell_type": "code",
   "execution_count": null,
   "metadata": {
    "collapsed": true
   },
   "outputs": [],
   "source": []
  }
 ],
 "metadata": {
  "kernelspec": {
   "display_name": "Python [tensorflow]",
   "language": "python",
   "name": "Python [tensorflow]"
  },
  "language_info": {
   "codemirror_mode": {
    "name": "ipython",
    "version": 3
   },
   "file_extension": ".py",
   "mimetype": "text/x-python",
   "name": "python",
   "nbconvert_exporter": "python",
   "pygments_lexer": "ipython3",
   "version": "3.5.3"
  }
 },
 "nbformat": 4,
 "nbformat_minor": 0
}
