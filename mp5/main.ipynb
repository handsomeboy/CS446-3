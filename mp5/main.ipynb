{
 "cells": [
  {
   "cell_type": "code",
   "execution_count": 1,
   "metadata": {
    "collapsed": false
   },
   "outputs": [
    {
     "name": "stdout",
     "output_type": "stream",
     "text": [
      "Loading data...\n"
     ]
    },
    {
     "data": {
      "text/plain": [
       "\"\\n    print('Training self OVR...')\\n    self_ovr = MulticlassSVM('ovr')\\n    self_ovr.fit(X_train, y_train)\\n    print('Self OVR Accuracy (train):',\\n          metrics.accuracy_score(y_train, self_ovr.predict(X_train)))\\n    print('Self OVR Accuracy (test) :',\\n          metrics.accuracy_score(y_test, self_ovr.predict(X_test)))\\n\\n    print('Training self OVO...')\\n    self_ovo = MulticlassSVM('ovo')\\n    self_ovo.fit(X_train, y_train)\\n    print('Self OVO Accuracy (train):',\\n          metrics.accuracy_score(y_train, self_ovo.predict(X_train)))\\n    print('Self OVO Accuracy (test) :',\\n          metrics.accuracy_score(y_test, self_ovo.predict(X_test)))\\n\\n    print('Training self Crammer-Singer...')\\n    self_cs = MulticlassSVM('crammer-singer')\\n    self_cs.fit(X_train, y_train)\\n    print('Self Crammer-Singer Accuracy (train):',\\n          metrics.accuracy_score(y_train, self_cs.predict(X_train)))\\n    print('Self Crammer-Singer Accuracy (test) :',\\n          metrics.accuracy_score(y_test, self_cs.predict(X_test)))\\n\""
      ]
     },
     "execution_count": 1,
     "metadata": {},
     "output_type": "execute_result"
    }
   ],
   "source": [
    "import numpy as np\n",
    "from sklearn import metrics\n",
    "\n",
    "from model.sklearn_multiclass import sklearn_multiclass_prediction\n",
    "from model.self_multiclass import MulticlassSVM\n",
    "\n",
    "if __name__ == '__main__':\n",
    "    print('Loading data...')\n",
    "    mnist = np.loadtxt('data/mnist_test.csv', delimiter=',')\n",
    "\n",
    "'''\n",
    "    print('Training self OVR...')\n",
    "    self_ovr = MulticlassSVM('ovr')\n",
    "    self_ovr.fit(X_train, y_train)\n",
    "    print('Self OVR Accuracy (train):',\n",
    "          metrics.accuracy_score(y_train, self_ovr.predict(X_train)))\n",
    "    print('Self OVR Accuracy (test) :',\n",
    "          metrics.accuracy_score(y_test, self_ovr.predict(X_test)))\n",
    "\n",
    "    print('Training self OVO...')\n",
    "    self_ovo = MulticlassSVM('ovo')\n",
    "    self_ovo.fit(X_train, y_train)\n",
    "    print('Self OVO Accuracy (train):',\n",
    "          metrics.accuracy_score(y_train, self_ovo.predict(X_train)))\n",
    "    print('Self OVO Accuracy (test) :',\n",
    "          metrics.accuracy_score(y_test, self_ovo.predict(X_test)))\n",
    "\n",
    "    print('Training self Crammer-Singer...')\n",
    "    self_cs = MulticlassSVM('crammer-singer')\n",
    "    self_cs.fit(X_train, y_train)\n",
    "    print('Self Crammer-Singer Accuracy (train):',\n",
    "          metrics.accuracy_score(y_train, self_cs.predict(X_train)))\n",
    "    print('Self Crammer-Singer Accuracy (test) :',\n",
    "          metrics.accuracy_score(y_test, self_cs.predict(X_test)))\n",
    "'''"
   ]
  },
  {
   "cell_type": "code",
   "execution_count": 2,
   "metadata": {
    "collapsed": false
   },
   "outputs": [],
   "source": [
    "if 1:\n",
    "    X_train = mnist[:len(mnist)//2, 1:]\n",
    "    y_train = mnist[:len(mnist)//2, 0].astype(np.int)\n",
    "\n",
    "    X_test = mnist[len(mnist)//2:, 1:]\n",
    "    y_test = mnist[len(mnist)//2:, 0].astype(np.int)\n",
    "\n"
   ]
  },
  {
   "cell_type": "code",
   "execution_count": 3,
   "metadata": {
    "collapsed": false
   },
   "outputs": [
    {
     "name": "stdout",
     "output_type": "stream",
     "text": [
      "Training Sklearn OVR...\n",
      "Sklearn OVR Accuracy (train): 0.978\n",
      "Sklearn OVR Accuracy (test) : 0.858\n"
     ]
    }
   ],
   "source": [
    "if 1:\n",
    "    \n",
    "    print('Training Sklearn OVR...')\n",
    "    y_pred_train, y_pred_test = sklearn_multiclass_prediction(\n",
    "        'ovr', X_train, y_train, X_test)\n",
    "    print('Sklearn OVR Accuracy (train):',\n",
    "          metrics.accuracy_score(y_train, y_pred_train))\n",
    "    print('Sklearn OVR Accuracy (test) :',\n",
    "          metrics.accuracy_score(y_test, y_pred_test))\n",
    "    "
   ]
  },
  {
   "cell_type": "code",
   "execution_count": 4,
   "metadata": {
    "collapsed": false
   },
   "outputs": [
    {
     "name": "stdout",
     "output_type": "stream",
     "text": [
      "Training Sklearn OVO...\n",
      "Sklearn OVO Accuracy (train): 1.0\n",
      "Sklearn OVO Accuracy (test) : 0.9106\n"
     ]
    }
   ],
   "source": [
    "if 1: \n",
    "    print('Training Sklearn OVO...')\n",
    "    y_pred_train, y_pred_test = sklearn_multiclass_prediction(\n",
    "        'ovo', X_train, y_train, X_test)\n",
    "    print('Sklearn OVO Accuracy (train):',\n",
    "          metrics.accuracy_score(y_train, y_pred_train))\n",
    "    print('Sklearn OVO Accuracy (test) :',\n",
    "          metrics.accuracy_score(y_test, y_pred_test))\n"
   ]
  },
  {
   "cell_type": "code",
   "execution_count": 5,
   "metadata": {
    "collapsed": false
   },
   "outputs": [
    {
     "name": "stdout",
     "output_type": "stream",
     "text": [
      "Training Sklearn Crammer-Singer...\n",
      "Sklearn Crammer-Singer Accuracy (train): 1.0\n",
      "Sklearn Crammer-Singer Accuracy (test) : 0.8688\n"
     ]
    }
   ],
   "source": [
    "if 1: \n",
    "    print('Training Sklearn Crammer-Singer...')\n",
    "    y_pred_train, y_pred_test = sklearn_multiclass_prediction(\n",
    "        'crammer', X_train, y_train, X_test)\n",
    "    print('Sklearn Crammer-Singer Accuracy (train):',\n",
    "          metrics.accuracy_score(y_train, y_pred_train))\n",
    "    print('Sklearn Crammer-Singer Accuracy (test) :',\n",
    "          metrics.accuracy_score(y_test, y_pred_test))"
   ]
  },
  {
   "cell_type": "code",
   "execution_count": 6,
   "metadata": {
    "collapsed": false
   },
   "outputs": [
    {
     "name": "stdout",
     "output_type": "stream",
     "text": [
      "Training self OVR...\n"
     ]
    },
    {
     "name": "stderr",
     "output_type": "stream",
     "text": [
      "C:\\Users\\PIxel\\Anaconda2\\envs\\tensorflow\\lib\\site-packages\\sklearn\\utils\\validation.py:547: DataConversionWarning: A column-vector y was passed when a 1d array was expected. Please change the shape of y to (n_samples, ), for example using ravel().\n",
      "  y = column_or_1d(y, warn=True)\n"
     ]
    },
    {
     "name": "stdout",
     "output_type": "stream",
     "text": [
      "Self OVR Accuracy (train): 0.9894\n",
      "Self OVR Accuracy (test) : 0.8612\n"
     ]
    }
   ],
   "source": [
    "if 1:\n",
    "    print('Training self OVR...')\n",
    "    self_ovr = MulticlassSVM('ovr')\n",
    "    self_ovr.fit(X_train, y_train)\n",
    "    print('Self OVR Accuracy (train):',\n",
    "          metrics.accuracy_score(y_train, self_ovr.predict(X_train)))\n",
    "    print('Self OVR Accuracy (test) :',\n",
    "          metrics.accuracy_score(y_test, self_ovr.predict(X_test)))\n",
    "\n",
    "    "
   ]
  },
  {
   "cell_type": "code",
   "execution_count": 7,
   "metadata": {
    "collapsed": false
   },
   "outputs": [
    {
     "name": "stdout",
     "output_type": "stream",
     "text": [
      "Training self OVO...\n"
     ]
    },
    {
     "name": "stderr",
     "output_type": "stream",
     "text": [
      "C:\\Users\\PIxel\\Anaconda2\\envs\\tensorflow\\lib\\site-packages\\sklearn\\utils\\validation.py:547: DataConversionWarning: A column-vector y was passed when a 1d array was expected. Please change the shape of y to (n_samples, ), for example using ravel().\n",
      "  y = column_or_1d(y, warn=True)\n"
     ]
    },
    {
     "name": "stdout",
     "output_type": "stream",
     "text": [
      "Self OVO Accuracy (train): 1.0\n",
      "Self OVO Accuracy (test) : 0.908\n"
     ]
    }
   ],
   "source": [
    "if 1:\n",
    "    print('Training self OVO...')\n",
    "    self_ovo = MulticlassSVM('ovo')\n",
    "    self_ovo.fit(X_train, y_train)\n",
    "    print('Self OVO Accuracy (train):',\n",
    "          metrics.accuracy_score(y_train, self_ovo.predict(X_train)))\n",
    "    print('Self OVO Accuracy (test) :',\n",
    "          metrics.accuracy_score(y_test, self_ovo.predict(X_test)))\n"
   ]
  },
  {
   "cell_type": "code",
   "execution_count": 8,
   "metadata": {
    "collapsed": false
   },
   "outputs": [
    {
     "name": "stdout",
     "output_type": "stream",
     "text": [
      "Training self Crammer-Singer...\n",
      "Self Crammer-Singer Accuracy (train): 0.9782\n",
      "Self Crammer-Singer Accuracy (test) : 0.8862\n"
     ]
    }
   ],
   "source": [
    "if 1:\n",
    "    \n",
    "    print('Training self Crammer-Singer...')\n",
    "    self_cs = MulticlassSVM('crammer-singer')\n",
    "    self_cs.fit(X_train, y_train)\n",
    "    print('Self Crammer-Singer Accuracy (train):',\n",
    "          metrics.accuracy_score(y_train, self_cs.predict(X_train)))\n",
    "    print('Self Crammer-Singer Accuracy (test) :',\n",
    "          metrics.accuracy_score(y_test, self_cs.predict(X_test)))"
   ]
  },
  {
   "cell_type": "code",
   "execution_count": null,
   "metadata": {
    "collapsed": true
   },
   "outputs": [],
   "source": []
  }
 ],
 "metadata": {
  "anaconda-cloud": {},
  "kernelspec": {
   "display_name": "Python [tensorflow]",
   "language": "python",
   "name": "Python [tensorflow]"
  },
  "language_info": {
   "codemirror_mode": {
    "name": "ipython",
    "version": 3
   },
   "file_extension": ".py",
   "mimetype": "text/x-python",
   "name": "python",
   "nbconvert_exporter": "python",
   "pygments_lexer": "ipython3",
   "version": "3.5.3"
  }
 },
 "nbformat": 4,
 "nbformat_minor": 0
}
