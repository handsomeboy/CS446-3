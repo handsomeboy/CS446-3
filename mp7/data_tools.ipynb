{
 "cells": [
  {
   "cell_type": "code",
   "execution_count": 1,
   "metadata": {
    "collapsed": true
   },
   "outputs": [],
   "source": [
    "\"\"\"Implements feature extraction and data processing helpers.\n",
    "\"\"\"\n",
    "\n",
    "\n",
    "import numpy as np\n",
    "import pylab as pl\n",
    "\n",
    "\n"
   ]
  },
  {
   "cell_type": "code",
   "execution_count": 2,
   "metadata": {
    "collapsed": true
   },
   "outputs": [],
   "source": [
    "\n",
    "def load_dataset(input_file_path, num_samples):\n",
    "    \"\"\"\n",
    "    1\n",
    "    Generates a dataset by loading an image and creating the specified number\n",
    "    of noisy samples of it.\n",
    "    Inputs:\n",
    "        input_file_path\n",
    "    Output:\n",
    "        dataset\n",
    "    \"\"\"\n",
    "    original_img = load_image(input_file_path)\n",
    "    samples = []\n",
    "    for i in range(num_samples):\n",
    "        samples.append(inject_noise(original_img))\n",
    "\n",
    "    return original_img, samples\n",
    "\n"
   ]
  },
  {
   "cell_type": "code",
   "execution_count": 3,
   "metadata": {
    "collapsed": true
   },
   "outputs": [],
   "source": [
    "\n",
    "def load_image(input_file_path):\n",
    "    \"\"\"\n",
    "    Loads the image and binarizes it by:\n",
    "    0. Read the image\n",
    "    1. Consider the first channel in the image\n",
    "    2. Binarize the pixel values to {-1, 1} by setting the values\n",
    "    below the binarization_threshold to 0 and above to 1.\n",
    "    Inputs:\n",
    "        input_file_path\n",
    "    Output:\n",
    "        binarized image\n",
    "    \"\"\"\n",
    "    img = pl.imread(input_file_path)\n",
    "    img = img[:, :, 0]\n",
    "    img = np.where(I < 0.1, 0, 1)\n",
    "\n",
    "    return img\n",
    "\n"
   ]
  },
  {
   "cell_type": "code",
   "execution_count": 4,
   "metadata": {
    "collapsed": true
   },
   "outputs": [],
   "source": [
    "\n",
    "def inject_noise(image):\n",
    "    \"\"\"\n",
    "    Inject noise by flipping the value of some randomly chosen pixels.\n",
    "    1. Generate a matrix of probabilities of pixels keeping their\n",
    "    original values.\n",
    "    2. Flip the pixels if their corresponding probability in the matrix\n",
    "    is below 0.1.\n",
    "\n",
    "    Input:\n",
    "        original image\n",
    "    Output:\n",
    "        noisy image\n",
    "    \"\"\"\n",
    "    J = image.copy()\n",
    "\n",
    "    # Generate the matrix of probabilities of each pixel in the image\n",
    "    # to keep its value\n",
    "    N = np.shape(J)[0]\n",
    "    noise = np.random.rand(N, N)\n",
    "\n",
    "    # Extract the indices of the pixels to be flipped.\n",
    "    ind = np.where(noise < 0.1)\n",
    "\n",
    "    # Flip the pixels\n",
    "    J[ind] = 1 - J[ind]\n",
    "\n",
    "    return J\n",
    "\n",
    "\n"
   ]
  },
  {
   "cell_type": "code",
   "execution_count": 5,
   "metadata": {
    "collapsed": true
   },
   "outputs": [],
   "source": [
    "def plot_image(image, title, path):\n",
    "    pl.figure()\n",
    "    pl.imshow(image)\n",
    "    pl.title(title)\n",
    "    pl.savefig(path)"
   ]
  },
  {
   "cell_type": "code",
   "execution_count": null,
   "metadata": {
    "collapsed": true
   },
   "outputs": [],
   "source": []
  }
 ],
 "metadata": {
  "anaconda-cloud": {},
  "kernelspec": {
   "display_name": "Python [tensorflow]",
   "language": "python",
   "name": "Python [tensorflow]"
  },
  "language_info": {
   "codemirror_mode": {
    "name": "ipython",
    "version": 3
   },
   "file_extension": ".py",
   "mimetype": "text/x-python",
   "name": "python",
   "nbconvert_exporter": "python",
   "pygments_lexer": "ipython3",
   "version": "3.5.3"
  }
 },
 "nbformat": 4,
 "nbformat_minor": 0
}
