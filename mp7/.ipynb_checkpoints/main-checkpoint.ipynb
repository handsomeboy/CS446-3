{
 "cells": [
  {
   "cell_type": "code",
   "execution_count": 10,
   "metadata": {
    "collapsed": false
   },
   "outputs": [
    {
     "data": {
      "text/plain": [
       "\"\\nflags = tf.app.flags\\nFLAGS = flags.FLAGS\\nflags.DEFINE_float('learning_rate', 0.01, 'Initial learning rate.')\\nflags.DEFINE_integer('num_epochs', 10, 'Number of update steps to run.')\\nflags.DEFINE_float('convergence_margin', 0.01,\\n                   'Margin of convergence for inference')\\nflags.DEFINE_string('input_file_path', 'data/circle.png', 'Original Image.')\\n\""
      ]
     },
     "execution_count": 10,
     "metadata": {},
     "output_type": "execute_result"
    }
   ],
   "source": [
    "\"\"\"Main function for train, eval, and test.\"\"\"\n",
    "\n",
    "from __future__ import print_function\n",
    "from __future__ import absolute_import\n",
    "\n",
    "import numpy as np\n",
    "import tensorflow as tf\n",
    "\n",
    "from linear_mrf import LinearMRF\n",
    "from data_tools import load_dataset, plot_image\n",
    "%matplotlib inline\n",
    "%config InlineBackend.figure_format = 'retina'\n",
    "\n",
    "'''\n",
    "flags = tf.app.flags\n",
    "FLAGS = flags.FLAGS\n",
    "flags.DEFINE_float('learning_rate', 0.01, 'Initial learning rate.')\n",
    "flags.DEFINE_integer('num_epochs', 10, 'Number of update steps to run.')\n",
    "flags.DEFINE_float('convergence_margin', 0.01,\n",
    "                   'Margin of convergence for inference')\n",
    "flags.DEFINE_string('input_file_path', 'data/circle.png', 'Original Image.')\n",
    "'''\n",
    "\n"
   ]
  },
  {
   "cell_type": "code",
   "execution_count": 14,
   "metadata": {
    "collapsed": false
   },
   "outputs": [
    {
     "ename": "AttributeError",
     "evalue": "'NoneType' object has no attribute 'copy'",
     "output_type": "error",
     "traceback": [
      "\u001b[1;31m---------------------------------------------------------------------------\u001b[0m",
      "\u001b[1;31mAttributeError\u001b[0m                            Traceback (most recent call last)",
      "\u001b[1;32m<ipython-input-14-ac0789e105e4>\u001b[0m in \u001b[0;36m<module>\u001b[1;34m()\u001b[0m\n\u001b[0;32m     23\u001b[0m \u001b[0mmodel\u001b[0m \u001b[1;33m=\u001b[0m \u001b[0mLinearMRF\u001b[0m\u001b[1;33m(\u001b[0m\u001b[0mwidth\u001b[0m\u001b[1;33m,\u001b[0m \u001b[0mheight\u001b[0m\u001b[1;33m)\u001b[0m\u001b[1;33m\u001b[0m\u001b[0m\n\u001b[0;32m     24\u001b[0m \u001b[1;33m\u001b[0m\u001b[0m\n\u001b[1;32m---> 25\u001b[1;33m \u001b[0mmodel\u001b[0m\u001b[1;33m.\u001b[0m\u001b[0mtrain\u001b[0m\u001b[1;33m(\u001b[0m\u001b[0moriginal_img\u001b[0m\u001b[1;33m,\u001b[0m \u001b[0mnoisy_samples\u001b[0m\u001b[1;33m,\u001b[0m \u001b[0mlearning_rate\u001b[0m\u001b[1;33m,\u001b[0m \u001b[0mnum_epochs\u001b[0m\u001b[1;33m,\u001b[0m            \u001b[0mconvergence_margin\u001b[0m\u001b[1;33m)\u001b[0m\u001b[1;33m\u001b[0m\u001b[0m\n\u001b[0m\u001b[0;32m     26\u001b[0m \u001b[1;33m\u001b[0m\u001b[0m\n\u001b[0;32m     27\u001b[0m \u001b[1;31m# Evaluate model on training dataset\u001b[0m\u001b[1;33m\u001b[0m\u001b[1;33m\u001b[0m\u001b[0m\n",
      "\u001b[1;32m~\\CS446\\mp7\\linear_mrf.py\u001b[0m in \u001b[0;36mtrain\u001b[1;34m(self, original_img, noisy_samples, lr, num_epochs, convergence_margin)\u001b[0m\n\u001b[0;32m    251\u001b[0m         \u001b[0munary_beliefs\u001b[0m \u001b[1;33m=\u001b[0m \u001b[1;33m[\u001b[0m\u001b[1;33m]\u001b[0m\u001b[1;33m\u001b[0m\u001b[0m\n\u001b[0;32m    252\u001b[0m         \u001b[0mpairwise_beliefs\u001b[0m \u001b[1;33m=\u001b[0m \u001b[1;33m[\u001b[0m\u001b[1;33m]\u001b[0m\u001b[1;33m\u001b[0m\u001b[0m\n\u001b[1;32m--> 253\u001b[1;33m         \u001b[0munary_beliefs\u001b[0m \u001b[1;33m=\u001b[0m \u001b[1;33m[\u001b[0m\u001b[0mfeat\u001b[0m\u001b[1;33m.\u001b[0m\u001b[0mcopy\u001b[0m\u001b[1;33m(\u001b[0m\u001b[1;33m)\u001b[0m \u001b[1;32mfor\u001b[0m \u001b[0mfeat\u001b[0m \u001b[1;32min\u001b[0m \u001b[0mnoisy_features\u001b[0m\u001b[1;33m]\u001b[0m\u001b[1;33m\u001b[0m\u001b[0m\n\u001b[0m\u001b[0;32m    254\u001b[0m         pairwise_beliefs = [self.get_pairwise_beliefs(belief)\n\u001b[0;32m    255\u001b[0m                             for belief in unary_beliefs]\n",
      "\u001b[1;32m~\\CS446\\mp7\\linear_mrf.py\u001b[0m in \u001b[0;36m<listcomp>\u001b[1;34m(.0)\u001b[0m\n\u001b[0;32m    251\u001b[0m         \u001b[0munary_beliefs\u001b[0m \u001b[1;33m=\u001b[0m \u001b[1;33m[\u001b[0m\u001b[1;33m]\u001b[0m\u001b[1;33m\u001b[0m\u001b[0m\n\u001b[0;32m    252\u001b[0m         \u001b[0mpairwise_beliefs\u001b[0m \u001b[1;33m=\u001b[0m \u001b[1;33m[\u001b[0m\u001b[1;33m]\u001b[0m\u001b[1;33m\u001b[0m\u001b[0m\n\u001b[1;32m--> 253\u001b[1;33m         \u001b[0munary_beliefs\u001b[0m \u001b[1;33m=\u001b[0m \u001b[1;33m[\u001b[0m\u001b[0mfeat\u001b[0m\u001b[1;33m.\u001b[0m\u001b[0mcopy\u001b[0m\u001b[1;33m(\u001b[0m\u001b[1;33m)\u001b[0m \u001b[1;32mfor\u001b[0m \u001b[0mfeat\u001b[0m \u001b[1;32min\u001b[0m \u001b[0mnoisy_features\u001b[0m\u001b[1;33m]\u001b[0m\u001b[1;33m\u001b[0m\u001b[0m\n\u001b[0m\u001b[0;32m    254\u001b[0m         pairwise_beliefs = [self.get_pairwise_beliefs(belief)\n\u001b[0;32m    255\u001b[0m                             for belief in unary_beliefs]\n",
      "\u001b[1;31mAttributeError\u001b[0m: 'NoneType' object has no attribute 'copy'"
     ]
    }
   ],
   "source": [
    "#def main(_):\n",
    "\"\"\"High level pipeline.\n",
    "    This script performs the trainsing, evaling and testing state of the model.\n",
    "\"\"\"\n",
    "#     learning_rate = FLAGS.learning_rate\n",
    "#     num_epochs = FLAGS.num_epochs\n",
    "#     convergence_margin = FLAGS.convergence_margin\n",
    "#     input_file_path = FLAGS.input_file_path\n",
    "learning_rate = 0.01\n",
    "num_epochs = 10\n",
    "convergence_margin = 0.01\n",
    "input_file_path = 'data/circle.png'\n",
    "\n",
    "    # Load dataset.\n",
    "original_img, noisy_samples = load_dataset(input_file_path, 10)\n",
    "height = original_img.shape[0]\n",
    "width = original_img.shape[1]\n",
    "\n",
    "original_img = original_img.flatten()\n",
    "noisy_samples = [sample.flatten() for sample in noisy_samples]\n",
    "\n",
    "# Initialize model.\n",
    "model = LinearMRF(width, height)\n",
    "\n",
    "model.train(original_img, noisy_samples, learning_rate, num_epochs,\\\n",
    "            convergence_margin)\n",
    "\n",
    "# Evaluate model on training dataset\n",
    "denoised_images = model.test(noisy_samples, convergence_margin)\n",
    "\n",
    "    # Plot inference result on image\n",
    "plot_image(noisy_samples[0].reshape(height, width), 'Noisy Image',\\\n",
    "               'data/noisy_sample.png')\n",
    "plot_image(denoised_images[0], 'Denoised Version', 'data/denoised_img.png')\n",
    "\n",
    "\n",
    "#if __name__ == '__main__':\n",
    "#    tf.app.run()"
   ]
  },
  {
   "cell_type": "code",
   "execution_count": null,
   "metadata": {
    "collapsed": true
   },
   "outputs": [],
   "source": []
  }
 ],
 "metadata": {
  "anaconda-cloud": {},
  "kernelspec": {
   "display_name": "Python [tensorflow]",
   "language": "python",
   "name": "Python [tensorflow]"
  },
  "language_info": {
   "codemirror_mode": {
    "name": "ipython",
    "version": 3
   },
   "file_extension": ".py",
   "mimetype": "text/x-python",
   "name": "python",
   "nbconvert_exporter": "python",
   "pygments_lexer": "ipython3",
   "version": "3.5.3"
  }
 },
 "nbformat": 4,
 "nbformat_minor": 0
}
