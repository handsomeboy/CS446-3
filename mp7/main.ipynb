{
 "cells": [
  {
   "cell_type": "code",
   "execution_count": 10,
   "metadata": {
    "collapsed": false
   },
   "outputs": [
    {
     "data": {
      "text/plain": [
       "\"\\nflags = tf.app.flags\\nFLAGS = flags.FLAGS\\nflags.DEFINE_float('learning_rate', 0.01, 'Initial learning rate.')\\nflags.DEFINE_integer('num_epochs', 10, 'Number of update steps to run.')\\nflags.DEFINE_float('convergence_margin', 0.01,\\n                   'Margin of convergence for inference')\\nflags.DEFINE_string('input_file_path', 'data/circle.png', 'Original Image.')\\n\""
      ]
     },
     "execution_count": 10,
     "metadata": {},
     "output_type": "execute_result"
    }
   ],
   "source": [
    "\"\"\"Main function for train, eval, and test.\"\"\"\n",
    "\n",
    "from __future__ import print_function\n",
    "from __future__ import absolute_import\n",
    "\n",
    "import numpy as np\n",
    "import tensorflow as tf\n",
    "\n",
    "from linear_mrf import LinearMRF\n",
    "from data_tools import load_dataset, plot_image\n",
    "%matplotlib inline\n",
    "%config InlineBackend.figure_format = 'retina'\n",
    "\n",
    "'''\n",
    "flags = tf.app.flags\n",
    "FLAGS = flags.FLAGS\n",
    "flags.DEFINE_float('learning_rate', 0.01, 'Initial learning rate.')\n",
    "flags.DEFINE_integer('num_epochs', 10, 'Number of update steps to run.')\n",
    "flags.DEFINE_float('convergence_margin', 0.01,\n",
    "                   'Margin of convergence for inference')\n",
    "flags.DEFINE_string('input_file_path', 'data/circle.png', 'Original Image.')\n",
    "'''\n",
    "\n"
   ]
  },
  {
   "cell_type": "code",
   "execution_count": 11,
   "metadata": {
    "collapsed": false
   },
   "outputs": [
    {
     "data": {
      "image/png": "[encoded data removed]",
      "text/plain": [
       "<matplotlib.figure.Figure at 0x1b82ab0ad30>"
      ]
     },
     "metadata": {
      "image/png": {
       "height": 263,
       "width": 259
      }
     },
     "output_type": "display_data"
    }
   ],
   "source": [
    "#def main(_):\n",
    "\"\"\"High level pipeline.\n",
    "    This script performs the trainsing, evaling and testing state of the model.\n",
    "\"\"\"\n",
    "#     learning_rate = FLAGS.learning_rate\n",
    "#     num_epochs = FLAGS.num_epochs\n",
    "#     convergence_margin = FLAGS.convergence_margin\n",
    "#     input_file_path = FLAGS.input_file_path\n",
    "learning_rate = 0.01\n",
    "num_epochs = 10\n",
    "convergence_margin = 0.01\n",
    "input_file_path = 'data/circle.png'\n",
    "original_img, noisy_samples = load_dataset(input_file_path, 10)\n",
    "height = original_img.shape[0]\n",
    "width = original_img.shape[1]\n",
    "\n",
    "original_img = original_img.flatten()\n",
    "noisy_samples = [sample.flatten() for sample in noisy_samples]\n",
    "plot_image(noisy_samples[0].reshape(height, width), 'Noisy Image',\\\n",
    "               'data/noisy_sample.png')\n",
    "\n",
    "\n",
    "#if __name__ == '__main__':\n",
    "#    tf.app.run()"
   ]
  },
  {
   "cell_type": "code",
   "execution_count": null,
   "metadata": {
    "collapsed": false
   },
   "outputs": [
    {
     "name": "stdout",
     "output_type": "stream",
     "text": [
      "[ 1.  0.  0.  0.]\n",
      "[1 0] [1 0]\n",
      "EPOCH 1\n",
      "CURRENT SCORE:  128.2\n",
      "WEIGHTS: \n",
      "1.0\n",
      "1.0\n",
      "EPOCH 2\n"
     ]
    }
   ],
   "source": [
    "    # Load dataset.\n",
    "\n",
    "\n",
    "# Initialize model.\n",
    "model = LinearMRF(width, height)\n",
    "\n",
    "model.train(original_img, noisy_samples, learning_rate, num_epochs,\\\n",
    "            convergence_margin)\n",
    "\n",
    "# Evaluate model on training dataset\n",
    "denoised_images = model.test(noisy_samples, convergence_margin)\n",
    "\n",
    "    # Plot inference result on image\n",
    "plot_image(noisy_samples[0].reshape(height, width), 'Noisy Image',\\\n",
    "               'data/noisy_sample.png')\n",
    "plot_image(denoised_images[0], 'Denoised Version', 'data/denoised_img.png')"
   ]
  },
  {
   "cell_type": "code",
   "execution_count": null,
   "metadata": {
    "collapsed": true
   },
   "outputs": [],
   "source": []
  },
  {
   "cell_type": "code",
   "execution_count": null,
   "metadata": {
    "collapsed": true
   },
   "outputs": [],
   "source": []
  }
 ],
 "metadata": {
  "anaconda-cloud": {},
  "kernelspec": {
   "display_name": "Python [tensorflow]",
   "language": "python",
   "name": "Python [tensorflow]"
  },
  "language_info": {
   "codemirror_mode": {
    "name": "ipython",
    "version": 3
   },
   "file_extension": ".py",
   "mimetype": "text/x-python",
   "name": "python",
   "nbconvert_exporter": "python",
   "pygments_lexer": "ipython3",
   "version": "3.5.3"
  }
 },
 "nbformat": 4,
 "nbformat_minor": 0
}
