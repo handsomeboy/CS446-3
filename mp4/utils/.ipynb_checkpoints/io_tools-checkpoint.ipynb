{
 "cells": [
  {
   "cell_type": "code",
   "execution_count": 1,
   "metadata": {
    "collapsed": false
   },
   "outputs": [],
   "source": [
    "\"\"\"Input and output helpers to load in data.\n",
    "(This file will not be graded.)\n",
    "\"\"\"\n",
    "\n",
    "import numpy as np\n",
    "import skimage\n",
    "import os\n",
    "from skimage import io\n",
    "\n"
   ]
  },
  {
   "cell_type": "code",
   "execution_count": 2,
   "metadata": {
    "collapsed": true
   },
   "outputs": [],
   "source": [
    "\n",
    "def read_dataset(data_txt_file, image_data_path):\n",
    "    \"\"\"Read data into a Python dictionary.\n",
    "\n",
    "    Args:\n",
    "        data_txt_file(str): path to the data txt file.\n",
    "        image_data_path(str): path to the image directory.\n",
    "\n",
    "    Returns:\n",
    "        data(dict): A Python dictionary with keys 'image' and 'label'.\n",
    "            The value of dict['image'] is a numpy array of dimension (N,8,8,3)\n",
    "            containing the loaded images.\n",
    "\n",
    "            The value of dict['label'] is a numpy array of dimension (N,1)\n",
    "            containing the loaded label.\n",
    "\n",
    "            N is the number of examples in the data split, the exampels should\n",
    "            be stored in the same order as in the txt file.\n",
    "    \"\"\"\n",
    "    data = {'label':None, 'images':None}\n",
    "    imgs = []\n",
    "    with open(data_txt_file, 'r') as f:\n",
    "        sample_path_label = f.read().splitlines() \n",
    "        labels = np.array([int(sample_path_label[i].split(',')[1]) for i in range(len(sample_path_label))])\n",
    "        samples_fname = np.array([str(sample_path_label[i].split(',')[0]) for i in range(len(sample_path_label))])\n",
    "    \n",
    "    for i in range(len(samples_fname)):\n",
    "        file_path = image_data_path+'/'+samples_fname[i]+'.jpg'\n",
    "        imgs.append(io.imread(file_path))\n",
    "    \n",
    "    data.update({'label': labels.reshape(-1,1), 'images': np.array(imgs)})\n",
    "\n",
    "    return data\n"
   ]
  },
  {
   "cell_type": "code",
   "execution_count": 3,
   "metadata": {
    "collapsed": false
   },
   "outputs": [
    {
     "name": "stdout",
     "output_type": "stream",
     "text": [
      "C:\\Users\\PIxel\\CS446\\mp4\\utils\n"
     ]
    }
   ],
   "source": [
    "img = io.imread('0000.jpg')\n",
    "print(os.getcwd())"
   ]
  },
  {
   "cell_type": "code",
   "execution_count": 4,
   "metadata": {
    "collapsed": false
   },
   "outputs": [
    {
     "name": "stdout",
     "output_type": "stream",
     "text": [
      "(8, 8, 3)\n"
     ]
    }
   ],
   "source": [
    "print(img.shape)"
   ]
  },
  {
   "cell_type": "code",
   "execution_count": 5,
   "metadata": {
    "collapsed": false
   },
   "outputs": [
    {
     "name": "stdout",
     "output_type": "stream",
     "text": [
      "<class 'numpy.ndarray'>\n"
     ]
    }
   ],
   "source": [
    "print(type(img))"
   ]
  },
  {
   "cell_type": "code",
   "execution_count": 6,
   "metadata": {
    "collapsed": false
   },
   "outputs": [],
   "source": [
    "data_txt_file = 'C:/Users/PIxel/CS446/mp4/data/train.txt'\n",
    "image_data_path = 'C:/Users/PIxel/CS446/mp4/data/image_data'\n",
    "data = {'label':None, 'images':None}\n",
    "imgs = []\n",
    "with open(data_txt_file, 'r') as f:\n",
    "    sample_path_label = f.read().splitlines() \n",
    "    labels = np.array([int(sample_path_label[i].split(',')[1]) for i in range(len(sample_path_label))])\n",
    "    samples_fname = np.array([str(sample_path_label[i].split(',')[0]) for i in range(len(sample_path_label))])\n",
    "for i in range(len(samples_fname)):\n",
    "    file_path = image_data_path+'/'+samples_fname[i]+'.jpg'\n",
    "    imgs.append(io.imread(file_path))\n",
    "    \n",
    "    \n",
    "    \n",
    "    \n",
    "    \n",
    "    \n",
    "    "
   ]
  },
  {
   "cell_type": "code",
   "execution_count": 7,
   "metadata": {
    "collapsed": false
   },
   "outputs": [],
   "source": [
    " data.update({'label': labels.reshape(-1,1), 'images': np.array(imgs)})"
   ]
  },
  {
   "cell_type": "code",
   "execution_count": 59,
   "metadata": {
    "collapsed": false
   },
   "outputs": [
    {
     "name": "stdout",
     "output_type": "stream",
     "text": [
      "(1000, 8, 8, 3)\n"
     ]
    }
   ],
   "source": [
    "print(data['images'].shape)"
   ]
  },
  {
   "cell_type": "code",
   "execution_count": 60,
   "metadata": {
    "collapsed": false
   },
   "outputs": [],
   "source": [
    "Data = read_dataset(data_txt_file,image_data_path)"
   ]
  },
  {
   "cell_type": "code",
   "execution_count": 61,
   "metadata": {
    "collapsed": false
   },
   "outputs": [
    {
     "name": "stdout",
     "output_type": "stream",
     "text": [
      "(1000, 8, 8, 3) (1000, 1)\n"
     ]
    }
   ],
   "source": [
    "print(Data['images'].shape,Data['label'].shape)"
   ]
  },
  {
   "cell_type": "code",
   "execution_count": 62,
   "metadata": {
    "collapsed": true
   },
   "outputs": [],
   "source": [
    "\"\"\"Implements feature extraction and other data processing helpers.\n",
    "(This file will not be graded).\n",
    "\"\"\"\n",
    "\n",
    "import numpy as np\n",
    "import skimage\n",
    "from skimage import color\n",
    "\n",
    "\n",
    "def preprocess_data(data, process_method='default'):\n",
    "    \"\"\"Preprocesses dataset.\n",
    "\n",
    "    Args:\n",
    "        data(dict): Python dict loaded using io_tools.\n",
    "        process_method(str): processing methods needs to support\n",
    "          ['raw', 'default'].\n",
    "        if process_method is 'raw'\n",
    "          1. Convert the images to range of [0, 1] by dividing by 255.\n",
    "          2. Remove dataset mean. Average the images across the batch dimension.\n",
    "             This will result in a mean image of dimension (8,8,3).\n",
    "          3. Flatten images, data['image'] is converted to dimension (N, 8*8*3)\n",
    "        if process_method is 'default':\n",
    "          1. Convert images to range [0,1]\n",
    "          2. Convert from rgb to gray then back to rgb. Use skimage\n",
    "          3. Take the absolute value of the difference with the original image.\n",
    "          4. Remove dataset mean. Average the absolute value differences across\n",
    "             the batch dimension. This will result in a mean of dimension (8,8,3).\n",
    "          5. Flatten images, data['image'] is converted to dimension (N, 8*8*3)\n",
    "\n",
    "    Returns:\n",
    "        data(dict): Apply the described processing based on the process_method\n",
    "        str to data['image'], then return data.\n",
    "    \"\"\"\n",
    "    \n",
    "    data['images'] = data['images'] / 255\n",
    "    \n",
    "    if process_method == 'raw':\n",
    "        data['images'] = remove_data_mean(data)\n",
    "        data['images'] = data['images'].reshape(-1, 8*8*3)\n",
    "\n",
    "    elif process_method == 'default':\n",
    "        original = data['images']\n",
    "        print(original.shape)\n",
    "        data['images'] = color.rgb2gray(data['images'])\n",
    "        data['images'] = color.gray2rgb(data['images'])\n",
    "        data['images'] = np.abs(data['images']- original)\n",
    "        data = remove_data_mean(data)\n",
    "        data['images'] = data['images'].reshape(-1, 8*8*3)\n",
    "        \n",
    "    return data\n",
    "\n",
    "\n",
    "def compute_image_mean(data):\n",
    "    \"\"\" Computes mean image.\n",
    "\n",
    "    Args:\n",
    "        data(dict): Python dict loaded using io_tools.\n",
    "\n",
    "    Returns:\n",
    "        image_mean(numpy.ndarray): Avaerage across the example dimension.\n",
    "    \"\"\"\n",
    "    image_mean = np.mean(data['images'], axis=0)\n",
    "    return image_mean\n",
    "\n",
    "\n",
    "def remove_data_mean(data):\n",
    "    \"\"\"Removes data mean.\n",
    "\n",
    "    Args:\n",
    "        data(dict): Python dict loaded using io_tools.\n",
    "\n",
    "    Returns:\n",
    "        data(dict): Remove mean from data['image'] and return data.\n",
    "    \"\"\"\n",
    "    data['images'] = data['images'] - compute_image_mean(data)\n",
    "    return data\n"
   ]
  },
  {
   "cell_type": "code",
   "execution_count": 69,
   "metadata": {
    "collapsed": false
   },
   "outputs": [
    {
     "name": "stdout",
     "output_type": "stream",
     "text": [
      "(1000, 8, 8, 3)\n"
     ]
    }
   ],
   "source": [
    "Data = read_dataset(data_txt_file,image_data_path)\n",
    "Data_P = preprocess_data(Data, process_method='default')"
   ]
  },
  {
   "cell_type": "code",
   "execution_count": 70,
   "metadata": {
    "collapsed": false
   },
   "outputs": [
    {
     "data": {
      "text/plain": [
       "array([-0.02591747, -0.00648314, -0.03835151, -0.0255849 , -0.00629022,\n",
       "       -0.03781869, -0.02522437, -0.0062335 , -0.03680271, -0.02538111,\n",
       "       -0.00621033, -0.0364748 , -0.0251882 , -0.00611613, -0.03665418,\n",
       "       -0.0252044 , -0.00605406, -0.03649038, -0.02544757, -0.00609699,\n",
       "       -0.03704056, -0.02538571, -0.00619038, -0.03766694, -0.02445208,\n",
       "       -0.00607207, -0.0355069 , -0.02383115, -0.00587455, -0.03508349,\n",
       "       -0.02332793, -0.00569576, -0.03418553, -0.0233612 , -0.00564442,\n",
       "       -0.03441114, -0.02366644, -0.00565818, -0.03428389, -0.02377068,\n",
       "       -0.00561644, -0.03455897, -0.02367968, -0.00566093, -0.03479702,\n",
       "       -0.02370177, -0.00579275, -0.03524884, -0.0225849 , -0.00581529,\n",
       "       -0.03324188, -0.02227136, -0.00567563, -0.03225903, -0.02184909,\n",
       "       -0.00547005, -0.03206134, -0.02239492, -0.00556743, -0.03244067,\n",
       "       -0.02256756, -0.00558799, -0.03233334, -0.02262312, -0.00554259,\n",
       "       -0.03204231, -0.02214849, -0.00550387, -0.03254369, -0.02209898,\n",
       "       -0.00559247, -0.03298335, -0.02183355, -0.0056516 , -0.03217217,\n",
       "       -0.02154991, -0.00553728, -0.03180856, -0.02164134, -0.00550392,\n",
       "       -0.0320844 , -0.02216296, -0.00562478, -0.03169685, -0.02239855,\n",
       "       -0.00568542, -0.03149261, -0.02203677, -0.00554829, -0.0312063 ,\n",
       "       -0.02158458, -0.00549014, -0.03159801, -0.02156406, -0.00559251,\n",
       "       -0.03189053, -0.02155222, -0.00557003, -0.03328209, -0.02176016,\n",
       "       -0.00554221, -0.03316063, -0.02189406, -0.0055266 , -0.03312299,\n",
       "       -0.02226519, -0.00560019, -0.03272458, -0.02241954, -0.00566815,\n",
       "       -0.03225401, -0.02211172, -0.00555561, -0.03215407, -0.02174366,\n",
       "       -0.00556551, -0.03222625, -0.02127886, -0.0055498 , -0.03248807,\n",
       "       -0.02183997, -0.00564129, -0.03458554, -0.02176286, -0.00553438,\n",
       "       -0.03438216, -0.02188641, -0.00548547, -0.03431258, -0.0220753 ,\n",
       "       -0.00549909, -0.0335999 , -0.02200105, -0.00550995, -0.03327885,\n",
       "       -0.02168507, -0.00544803, -0.03312638, -0.02149438, -0.00548312,\n",
       "       -0.03338787, -0.02099061, -0.0054598 , -0.03375011, -0.02200967,\n",
       "       -0.00576973, -0.03604837, -0.02202357, -0.00565793, -0.03573824,\n",
       "       -0.02216679, -0.00557624, -0.03534906, -0.02206692, -0.00550996,\n",
       "       -0.03489396, -0.02151015, -0.00544557, -0.03437072, -0.02149705,\n",
       "       -0.00551465, -0.03458843, -0.02160059, -0.00559238, -0.03456662,\n",
       "       -0.02106456, -0.00558218, -0.03478936, -0.02321788, -0.00621656,\n",
       "       -0.03656939, -0.02309003, -0.00611431, -0.03639265, -0.02268941,\n",
       "       -0.00589135, -0.03619735, -0.02224991, -0.00571529, -0.03559911,\n",
       "       -0.02184621, -0.00562288, -0.03550339, -0.02166759, -0.00563435,\n",
       "       -0.03565641, -0.0219018 , -0.00574973, -0.0359071 , -0.02167361,\n",
       "       -0.0057902 , -0.0362792 ])"
      ]
     },
     "execution_count": 70,
     "metadata": {},
     "output_type": "execute_result"
    }
   ],
   "source": [
    "Data_P['images'][0]"
   ]
  },
  {
   "cell_type": "code",
   "execution_count": null,
   "metadata": {
    "collapsed": true
   },
   "outputs": [],
   "source": []
  }
 ],
 "metadata": {
  "anaconda-cloud": {},
  "kernelspec": {
   "display_name": "Python [tensorflow]",
   "language": "python",
   "name": "Python [tensorflow]"
  },
  "language_info": {
   "codemirror_mode": {
    "name": "ipython",
    "version": 3
   },
   "file_extension": ".py",
   "mimetype": "text/x-python",
   "name": "python",
   "nbconvert_exporter": "python",
   "pygments_lexer": "ipython3",
   "version": "3.5.3"
  }
 },
 "nbformat": 4,
 "nbformat_minor": 0
}
