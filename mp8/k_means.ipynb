{
 "cells": [
  {
   "cell_type": "code",
   "execution_count": 170,
   "metadata": {
    "collapsed": false
   },
   "outputs": [
    {
     "name": "stdout",
     "output_type": "stream",
     "text": [
      "Initial Centers\n",
      "[[ 2.  0.  3.  4.]\n",
      " [ 1.  2.  1.  3.]\n",
      " [ 0.  2.  1.  0.]]\n"
     ]
    }
   ],
   "source": [
    "from copy import deepcopy\n",
    "import numpy as np\n",
    "import numpy.linalg as npla\n",
    "import pandas as pd\n",
    "import sys\n",
    "\n",
    "\n",
    "'''\n",
    "In this problem you write your own K-Means\n",
    "Clustering code.\n",
    "\n",
    "Your code should return a 2d array containing\n",
    "the centers.\n",
    "\n",
    "'''\n",
    "# Import the dataset\n",
    "data_row = pd.read_csv(\"data/iris.data\", header = 0,parse_dates=True,sep=',')\n",
    "data = np.array(data_row)[:,:4]\n",
    "#print(data)\n",
    "# Make 3  clusters\n",
    "k = 3\n",
    "# Initial Centroids\n",
    "C = [[2.,  0.,  3.,  4.], [1.,  2.,  1.,  3.], [0., 2.,  1.,  0.]]\n",
    "C = np.array(C)\n",
    "print(\"Initial Centers\")\n",
    "print(C)\n",
    "\n",
    "\n",
    "\n",
    "\n",
    "\n",
    "\n",
    "\n",
    "\n"
   ]
  },
  {
   "cell_type": "code",
   "execution_count": 174,
   "metadata": {
    "collapsed": false
   },
   "outputs": [],
   "source": [
    "def k_means(C):\n",
    "    # Write your code here!\n",
    "    error = 1\n",
    "    tol = 1E-3\n",
    "    k = len(C)\n",
    "    def cluster(C):\n",
    "        d0 = data - C[0]\n",
    "        d1 = data - C[1]\n",
    "        d2 = data - C[2]\n",
    "        D0 = np.sum(d0**2, axis=1)\n",
    "        D1 = np.sum(d1**2, axis=1)\n",
    "        D2 = np.sum(d2**2, axis=1)\n",
    "        return [1*(d2 < d1 and d2 < d3)+ 2 * ( d3< d1 and d3 < d2) for d1, d2, d3 in zip(D0, D1, D2)]\n",
    "        \n",
    "        \n",
    "    Cluster = cluster(C)\n",
    "    print(Cluster)\n",
    "    cnt = 0\n",
    "    while (error > tol):\n",
    "        Cluster = cluster(C)\n",
    "        C_old = C.copy()\n",
    "        for i in range(k):\n",
    "            C[i] = np.mean(data[[j for j in range(len(data)) if Cluster[j]==i ]], axis=0)\n",
    "        error = npla.norm(C-C_old)\n",
    "        cnt += 1\n",
    "        print(cnt)\n",
    "        print(error)\n",
    "        print(C)\n",
    "    \n",
    "    C_final = C\n",
    "    return C_final\n",
    "\n"
   ]
  },
  {
   "cell_type": "code",
   "execution_count": 175,
   "metadata": {
    "collapsed": false
   },
   "outputs": [
    {
     "name": "stdout",
     "output_type": "stream",
     "text": [
      "[1, 2, 2, 2, 1, 1, 2, 1, 2, 2, 1, 2, 2, 2, 1, 1, 1, 1, 1, 1, 1, 1, 2, 1, 1, 2, 1, 1, 1, 2, 2, 1, 1, 1, 2, 2, 1, 2, 2, 1, 1, 2, 2, 1, 1, 2, 1, 2, 1, 2, 0, 0, 0, 0, 0, 0, 0, 1, 0, 0, 0, 0, 0, 0, 0, 0, 0, 0, 0, 0, 0, 0, 0, 0, 0, 0, 0, 0, 0, 0, 0, 0, 0, 0, 0, 0, 0, 0, 0, 0, 0, 0, 0, 1, 0, 0, 0, 0, 1, 0, 0, 0, 0, 0, 0, 0, 0, 0, 0, 0, 0, 0, 0, 0, 0, 0, 0, 0, 0, 0, 0, 0, 0, 0, 0, 0, 0, 0, 0, 0, 0, 0, 0, 0, 0, 0, 0, 0, 0, 0, 0, 0, 0, 0, 0, 0, 0, 0, 0, 0]\n",
      "1\n",
      "0.0\n",
      "[[ 6.30103093  2.88659794  4.95876289  1.69587629]\n",
      " [ 5.21612903  3.53870968  1.68064516  0.35806452]\n",
      " [ 4.70909091  3.10909091  1.39545455  0.19090909]]\n"
     ]
    }
   ],
   "source": [
    "C_final = k_means(C)"
   ]
  },
  {
   "cell_type": "code",
   "execution_count": 176,
   "metadata": {
    "collapsed": false
   },
   "outputs": [
    {
     "data": {
      "text/plain": [
       "array([[ 6.30103093,  2.88659794,  4.95876289,  1.69587629],\n",
       "       [ 5.21612903,  3.53870968,  1.68064516,  0.35806452],\n",
       "       [ 4.70909091,  3.10909091,  1.39545455,  0.19090909]])"
      ]
     },
     "execution_count": 176,
     "metadata": {},
     "output_type": "execute_result"
    }
   ],
   "source": [
    "C_final\n"
   ]
  },
  {
   "cell_type": "code",
   "execution_count": null,
   "metadata": {
    "collapsed": true
   },
   "outputs": [],
   "source": []
  }
 ],
 "metadata": {
  "kernelspec": {
   "display_name": "Python [tensorflow]",
   "language": "python",
   "name": "Python [tensorflow]"
  },
  "language_info": {
   "codemirror_mode": {
    "name": "ipython",
    "version": 3
   },
   "file_extension": ".py",
   "mimetype": "text/x-python",
   "name": "python",
   "nbconvert_exporter": "python",
   "pygments_lexer": "ipython3",
   "version": "3.5.3"
  }
 },
 "nbformat": 4,
 "nbformat_minor": 0
}
