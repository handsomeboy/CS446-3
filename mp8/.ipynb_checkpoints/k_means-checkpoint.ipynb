{
 "cells": [
  {
   "cell_type": "code",
   "execution_count": null,
   "metadata": {
    "collapsed": true
   },
   "outputs": [],
   "source": [
    "from copy import deepcopy\n",
    "import numpy as np\n",
    "import pandas as pd\n",
    "import sys\n",
    "\n",
    "\n",
    "'''\n",
    "In this problem you write your own K-Means\n",
    "Clustering code.\n",
    "\n",
    "Your code should return a 2d array containing\n",
    "the centers.\n",
    "\n",
    "'''\n",
    "# Import the dataset\n",
    "data_row = pd.read_csv(\"data/iris.data\", header = 0,parse_dates=True,sep=',')[0:4]\n",
    "# Make 3  clusters\n",
    "k = 3\n",
    "# Initial Centroids\n",
    "C = [[2.,  0.,  3.,  4.], [1.,  2.,  1.,  3.], [0., 2.,  1.,  0.]]\n",
    "C = np.array(C)\n",
    "print(\"Initial Centers\")\n",
    "print(C)\n",
    "\n",
    "def k_means(C):\n",
    "    # Write your code here!\n",
    "    for \n",
    "    return C_final\n",
    "\n",
    "\n",
    "\n",
    "\n",
    "\n",
    "\n",
    "\n",
    "\n"
   ]
  }
 ],
 "metadata": {
  "kernelspec": {
   "display_name": "Python [tensorflow]",
   "language": "python",
   "name": "Python [tensorflow]"
  },
  "language_info": {
   "codemirror_mode": {
    "name": "ipython",
    "version": 3
   },
   "file_extension": ".py",
   "mimetype": "text/x-python",
   "name": "python",
   "nbconvert_exporter": "python",
   "pygments_lexer": "ipython3",
   "version": "3.5.3"
  }
 },
 "nbformat": 4,
 "nbformat_minor": 0
}
