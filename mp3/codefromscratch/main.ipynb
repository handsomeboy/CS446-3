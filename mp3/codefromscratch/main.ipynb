{
 "cells": [
  {
   "cell_type": "code",
   "execution_count": null,
   "metadata": {
    "collapsed": true
   },
   "outputs": [],
   "source": [
    "\"\"\"Main function for binary classifier\"\"\"\n",
    "\n",
    "import numpy as np\n",
    "\n",
    "from io_tools import *\n",
    "from logistic_model import *\n",
    "\n",
    "\"\"\" Hyperparameter for Training \"\"\"\n",
    "learn_rate = None\n",
    "max_iters = None\n",
    "\n",
    "if __name__ == '__main__':\n",
    "    ###############################################################\n",
    "    # Fill your code in this function to learn the general flow\n",
    "    # (..., although this funciton will not be graded)\n",
    "    ###############################################################\n",
    "\n",
    "    # Load dataset.\n",
    "    # Hint: A, T = read_dataset('../data/trainset','indexing.txt')\n",
    "\n",
    "    # Initialize model.\n",
    "\n",
    "    # Train model via gradient descent.\n",
    "\n",
    "    # Save trained model to 'trained_weights.np'\n",
    "\n",
    "    # Load trained model from 'trained_weights.np'\n",
    "\n",
    "    # Try all other methods: forward, backward, classify, compute accuracy\n",
    "\n",
    "    pass \n",
    "\n"
   ]
  }
 ],
 "metadata": {
  "kernelspec": {
   "display_name": "Python [tensorflow]",
   "language": "python",
   "name": "Python [tensorflow]"
  },
  "language_info": {
   "codemirror_mode": {
    "name": "ipython",
    "version": 3
   },
   "file_extension": ".py",
   "mimetype": "text/x-python",
   "name": "python",
   "nbconvert_exporter": "python",
   "pygments_lexer": "ipython3",
   "version": "3.5.3"
  }
 },
 "nbformat": 4,
 "nbformat_minor": 0
}
