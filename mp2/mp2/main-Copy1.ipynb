{
 "cells": [
  {
   "cell_type": "code",
   "execution_count": null,
   "metadata": {
    "collapsed": false
   },
   "outputs": [],
   "source": [
    "\"\"\"Main function for train, eval, and test.\"\"\"\n",
    "\n",
    "from __future__ import print_function\n",
    "from __future__ import absolute_import\n",
    "\n",
    "import numpy as np\n",
    "import tensorflow as tf\n",
    "\n",
    "from models.linear_regression import LinearRegression\n",
    "from train_eval_model import train_model, eval_model, train_model_analytic\n",
    "from utils.io_tools import read_dataset\n",
    "from utils.data_tools import preprocess_data\n",
    "from utils.plot_tools import plot_x_vs_y\n"
   ]
  },
  {
   "cell_type": "code",
   "execution_count": null,
   "metadata": {
    "collapsed": false
   },
   "outputs": [],
   "source": [
    "learning_rate = 1.0E-15\n",
    "w_decay_factor = 0.0001\n",
    "num_steps = 1000000#FLAGS.num_steps\n",
    "opt_method = 'analytic'#FLAGS.opt_method\n",
    "feature_columns = ('BldgType,OverallQual').split(',')\n",
    "# GarageArea"
   ]
  },
  {
   "cell_type": "code",
   "execution_count": null,
   "metadata": {
    "collapsed": false
   },
   "outputs": [],
   "source": [
    "dataset = read_dataset(\"data/train.csv\")"
   ]
  },
  {
   "cell_type": "code",
   "execution_count": 15,
   "metadata": {
    "collapsed": false
   },
   "outputs": [
    {
     "name": "stdout",
     "output_type": "stream",
     "text": [
      "[  1.   0.   0.   0.   0.  25.]\n",
      "[  1.   0.   0.   0.   0.  25.]\n",
      "[   1.    0.    0.    0.    0.  625.]\n"
     ]
    }
   ],
   "source": [
    "train_set = preprocess_data(dataset, feature_columns=feature_columns,\n",
    "                                squared_features=True)\n",
    "print(train_set[0][1])\n",
    "train_set1 = preprocess_data(dataset, feature_columns=feature_columns,\n",
    "                                squared_features=True)\n",
    "print(train_set1[0][1])\n",
    "print(train_set[0][1]**2 )\n"
   ]
  },
  {
   "cell_type": "code",
   "execution_count": null,
   "metadata": {
    "collapsed": false
   },
   "outputs": [],
   "source": [
    "ndim = train_set[0].shape[1]\n",
    "model = LinearRegression(ndim, 'ones')\n",
    "# print(train_set[0].shape[0])\n"
   ]
  },
  {
   "cell_type": "code",
   "execution_count": null,
   "metadata": {
    "collapsed": false
   },
   "outputs": [],
   "source": [
    "#train_model_analytic(train_set, model)\n",
    "f = model.forward(train_set[0])\n",
    "print((f.shape, type(f[0])))\n",
    "#print(f[0], y[0])\n"
   ]
  },
  {
   "cell_type": "code",
   "execution_count": null,
   "metadata": {
    "collapsed": false
   },
   "outputs": [],
   "source": [
    "#print(model.backward(0,0))\n",
    "# y = np.array(train_set[1]).astype(float)\n",
    "# x = np.array(train_set[0]).astype(float)"
   ]
  },
  {
   "cell_type": "code",
   "execution_count": 8,
   "metadata": {
    "collapsed": false
   },
   "outputs": [],
   "source": [
    "#train_model_analytic(train_set, model)\n",
    "# total_grad = model.backward(f, y)\n",
    "# print(total_grad)"
   ]
  },
  {
   "cell_type": "code",
   "execution_count": 9,
   "metadata": {
    "collapsed": false
   },
   "outputs": [],
   "source": [
    "# print(total_grad.shape)"
   ]
  },
  {
   "cell_type": "code",
   "execution_count": 10,
   "metadata": {
    "collapsed": false
   },
   "outputs": [],
   "source": [
    "#print(model.x)\n",
    "f = model.forward(train_set[0])\n",
    "#print(f)"
   ]
  },
  {
   "cell_type": "code",
   "execution_count": null,
   "metadata": {
    "collapsed": false
   },
   "outputs": [],
   "source": [
    "# train_model_analytic(train_set, model)\n"
   ]
  },
  {
   "cell_type": "code",
   "execution_count": null,
   "metadata": {
    "collapsed": false
   },
   "outputs": [],
   "source": [
    "print(np.linalg.det(np.dot(np.transpose(model.x), model.x)))"
   ]
  },
  {
   "cell_type": "code",
   "execution_count": null,
   "metadata": {
    "collapsed": false
   },
   "outputs": [],
   "source": [
    "train_model(train_set, model, learning_rate, num_steps=num_steps)\n",
    "print('Performed gradient descent.')"
   ]
  },
  {
   "cell_type": "code",
   "execution_count": null,
   "metadata": {
    "collapsed": false
   },
   "outputs": [],
   "source": [
    "print(model.w)"
   ]
  },
  {
   "cell_type": "code",
   "execution_count": 16,
   "metadata": {
    "collapsed": false
   },
   "outputs": [
    {
     "name": "stdout",
     "output_type": "stream",
     "text": [
      "[[ 19612.69697571]\n",
      " [ 16487.52338409]\n",
      " [ 19844.53637314]\n",
      " [-12656.34487534]\n",
      " [-27238.18854523]\n",
      " [  3816.26553416]\n",
      " [ 16050.22335052]]\n"
     ]
    },
    {
     "data": {
      "text/plain": [
       "array([[ 19612.69697571],\n",
       "       [ 16487.52338409],\n",
       "       [ 19844.53637314],\n",
       "       [-12656.34487534],\n",
       "       [-27238.18854523],\n",
       "       [  3816.26553416],\n",
       "       [ 16050.22335052]])"
      ]
     },
     "execution_count": 16,
     "metadata": {},
     "output_type": "execute_result"
    }
   ],
   "source": [
    "#print((model.w-train_model_analytic(train_set, model))/np.max(model.w))\n",
    "train_model_analytic(train_set, model)\n"
   ]
  },
  {
   "cell_type": "code",
   "execution_count": 17,
   "metadata": {
    "collapsed": false
   },
   "outputs": [
    {
     "name": "stdout",
     "output_type": "stream",
     "text": [
      "975593911519.0\n"
     ]
    }
   ],
   "source": [
    "print(eval_model(train_set, model))"
   ]
  },
  {
   "cell_type": "code",
   "execution_count": null,
   "metadata": {
    "collapsed": true
   },
   "outputs": [],
   "source": []
  }
 ],
 "metadata": {
  "anaconda-cloud": {},
  "kernelspec": {
   "display_name": "Python [tensorflow]",
   "language": "python",
   "name": "Python [tensorflow]"
  },
  "language_info": {
   "codemirror_mode": {
    "name": "ipython",
    "version": 3
   },
   "file_extension": ".py",
   "mimetype": "text/x-python",
   "name": "python",
   "nbconvert_exporter": "python",
   "pygments_lexer": "ipython3",
   "version": "3.5.3"
  }
 },
 "nbformat": 4,
 "nbformat_minor": 0
}
