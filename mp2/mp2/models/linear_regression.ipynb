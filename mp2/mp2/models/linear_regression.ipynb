{
 "cells": [
  {
   "cell_type": "code",
   "execution_count": null,
   "metadata": {
    "collapsed": true
   },
   "outputs": [],
   "source": [
    "\"\"\"Implements linear regression.\"\"\"\n",
    "\n",
    "from __future__ import print_function\n",
    "from __future__ import absolute_import\n",
    "\n",
    "import numpy as np\n",
    "from models.linear_model import LinearModel\n",
    "\n",
    "\n",
    "class LinearRegression(LinearModel):\n",
    "    \"\"\"Implements a linear regression mode model.\"\"\"\n",
    "\n",
    "    def backward(self, f, y):\n",
    "        \"\"\"Performs the backward operation.\n",
    "\n",
    "        By backward operation, it means to compute the gradient of the loss\n",
    "        with respect to w.\n",
    "\n",
    "        Hint: You may need to use self.x, and you made need to change the\n",
    "        forward operation.\n",
    "\n",
    "        Args:\n",
    "            f(numpy.ndarray): Output of forward operation, dimension (N,1).\n",
    "            y(numpy.ndarray): Ground truth label, dimension (N,1).\n",
    "\n",
    "        Returns:\n",
    "            total_grad(numpy.ndarray): Gradient of L w.r.t to self.w,\n",
    "              dimension (ndims+1,1).\n",
    "        \"\"\"\n",
    "        \n",
    "        total_grad = np.dot(np.transpose(self.x), f-y) + self.w_decay_factor * np.sum(f-y)\n",
    "        #\n",
    "        #np.zeros((self.ndims+1,1))#dot(np.linalg.inv(self.x, self.x), np.dot(self.x, f))\n",
    "\n",
    "        return total_grad\n",
    "\n",
    "    def total_loss(self, f, y):\n",
    "        \"\"\"Computes the total loss, square loss + L2 regularization.\n",
    "\n",
    "        Overall loss is sum of squared_loss + w_decay_factor*l2_loss\n",
    "        Note: Don't forget the 0.5 in the squared_loss!\n",
    "\n",
    "        Args:\n",
    "            f(numpy.ndarray): Output of forward operation, dimension (N,1).\n",
    "            y(numpy.ndarray): Ground truth label, dimension (N,1).\n",
    "        Returns:\n",
    "            total_loss (float): sum square loss + reguarlization.\n",
    "        \"\"\"\n",
    "        total_loss = 0.5*(np.sum(np.power(y-f,2)) +self.w_decay_factor * np.sum(np.power(self.w, 2)))\n",
    "\n",
    "        return total_loss\n",
    "\n",
    "    def predict(self, f):\n",
    "        \"\"\"Nothing to do here.\n",
    "        \"\"\"\n",
    "        return f\n"
   ]
  }
 ],
 "metadata": {
  "anaconda-cloud": {},
  "kernelspec": {
   "display_name": "Python [tensorflow]",
   "language": "python",
   "name": "Python [tensorflow]"
  },
  "language_info": {
   "codemirror_mode": {
    "name": "ipython",
    "version": 3
   },
   "file_extension": ".py",
   "mimetype": "text/x-python",
   "name": "python",
   "nbconvert_exporter": "python",
   "pygments_lexer": "ipython3",
   "version": "3.5.3"
  }
 },
 "nbformat": 4,
 "nbformat_minor": 0
}
